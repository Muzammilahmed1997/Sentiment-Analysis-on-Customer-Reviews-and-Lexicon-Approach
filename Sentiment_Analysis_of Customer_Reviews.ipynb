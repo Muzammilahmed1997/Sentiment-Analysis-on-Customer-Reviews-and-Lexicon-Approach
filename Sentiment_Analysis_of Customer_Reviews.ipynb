{
 "cells": [
  {
   "attachments": {},
   "cell_type": "markdown",
   "id": "23a296cf",
   "metadata": {},
   "source": [
    "# Sentiment Analyisis of Customer Reviews"
   ]
  },
  {
   "attachments": {},
   "cell_type": "markdown",
   "id": "30b08da3",
   "metadata": {},
   "source": [
    "# Importing Libraries"
   ]
  },
  {
   "cell_type": "code",
   "execution_count": 2,
   "id": "6cbc3e37-2836-4f8b-b6e9-e63c03b1c716",
   "metadata": {},
   "outputs": [],
   "source": [
    "import numpy as np\n",
    "import pandas as pd\n",
    "import matplotlib.pyplot as plt\n",
    "\n",
    "from sklearn.linear_model import LogisticRegression \n",
    "from sklearn.tree import DecisionTreeClassifier\n",
    "from sklearn.naive_bayes import MultinomialNB\n",
    "from sklearn.ensemble import RandomForestClassifier, GradientBoostingClassifier\n",
    "\n",
    "from sklearn.neighbors import KNeighborsClassifier\n",
    "\n",
    "from sklearn.model_selection import train_test_split, RepeatedKFold, GridSearchCV, cross_val_score\n",
    "from sklearn.metrics import roc_curve, roc_auc_score\n",
    "from sklearn.preprocessing import MinMaxScaler\n",
    "\n",
    "\n",
    "from sklearn.model_selection import train_test_split, RepeatedKFold, GridSearchCV, cross_val_score\n",
    "from sklearn.metrics import roc_curve, roc_auc_score\n",
    "from sklearn.metrics import confusion_matrix\n",
    "from sklearn.metrics import recall_score\n",
    "from sklearn.metrics import precision_score\n",
    "from sklearn.metrics import classification_report\n",
    "from sklearn.feature_selection import mutual_info_classif\n",
    "from sklearn.feature_selection import SelectKBest\n",
    "from sklearn.metrics import ConfusionMatrixDisplay\n",
    "from sklearn.model_selection import cross_val_predict\n",
    "from sklearn.metrics import confusion_matrix\n",
    "\n",
    "from sklearn.pipeline import Pipeline\n",
    "from matplotlib import pyplot\n",
    "\n",
    "from numpy import mean\n",
    "import pandas as pd"
   ]
  },
  {
   "cell_type": "markdown",
   "id": "f78aa278",
   "metadata": {},
   "source": [
    "## Loading Dataset"
   ]
  },
  {
   "cell_type": "code",
   "execution_count": 3,
   "id": "7f218ccd-ec3f-44f9-a1e4-7f91833b9cc9",
   "metadata": {},
   "outputs": [
    {
     "name": "stdout",
     "output_type": "stream",
     "text": [
      "(1390, 3)\n"
     ]
    },
    {
     "data": {
      "text/html": [
       "<div>\n",
       "<style scoped>\n",
       "    .dataframe tbody tr th:only-of-type {\n",
       "        vertical-align: middle;\n",
       "    }\n",
       "\n",
       "    .dataframe tbody tr th {\n",
       "        vertical-align: top;\n",
       "    }\n",
       "\n",
       "    .dataframe thead th {\n",
       "        text-align: right;\n",
       "    }\n",
       "</style>\n",
       "<table border=\"1\" class=\"dataframe\">\n",
       "  <thead>\n",
       "    <tr style=\"text-align: right;\">\n",
       "      <th></th>\n",
       "      <th>id</th>\n",
       "      <th>review</th>\n",
       "      <th>class</th>\n",
       "    </tr>\n",
       "  </thead>\n",
       "  <tbody>\n",
       "    <tr>\n",
       "      <th>0</th>\n",
       "      <td>39</td>\n",
       "      <td>Make it like better with a giant pig bigger th...</td>\n",
       "      <td>feature request</td>\n",
       "    </tr>\n",
       "    <tr>\n",
       "      <th>1</th>\n",
       "      <td>42</td>\n",
       "      <td>These screens are small enough without crowdin...</td>\n",
       "      <td>information giving</td>\n",
       "    </tr>\n",
       "    <tr>\n",
       "      <th>2</th>\n",
       "      <td>49</td>\n",
       "      <td>Dear Rovio; If you absolutely must continue tr...</td>\n",
       "      <td>information giving</td>\n",
       "    </tr>\n",
       "    <tr>\n",
       "      <th>3</th>\n",
       "      <td>56</td>\n",
       "      <td>App crashes when new power up notice pops up.</td>\n",
       "      <td>problem discovery</td>\n",
       "    </tr>\n",
       "    <tr>\n",
       "      <th>4</th>\n",
       "      <td>62</td>\n",
       "      <td>It would be nice to have an update that didn  ...</td>\n",
       "      <td>information giving</td>\n",
       "    </tr>\n",
       "  </tbody>\n",
       "</table>\n",
       "</div>"
      ],
      "text/plain": [
       "   id                                             review               class\n",
       "0  39  Make it like better with a giant pig bigger th...     feature request\n",
       "1  42  These screens are small enough without crowdin...  information giving\n",
       "2  49  Dear Rovio; If you absolutely must continue tr...  information giving\n",
       "3  56      App crashes when new power up notice pops up.   problem discovery\n",
       "4  62  It would be nice to have an update that didn  ...  information giving"
      ]
     },
     "execution_count": 3,
     "metadata": {},
     "output_type": "execute_result"
    }
   ],
   "source": [
    "# loading data of Software App Customer Reviews\n",
    "\n",
    "data = pd.read_csv(\"Software App Reviews.csv\")\n",
    "print(data.shape)\n",
    "data.head()"
   ]
  },
  {
   "cell_type": "markdown",
   "id": "54cc02af",
   "metadata": {},
   "source": [
    "## Data Pre Processing"
   ]
  },
  {
   "cell_type": "code",
   "execution_count": 4,
   "id": "143172d8",
   "metadata": {},
   "outputs": [
    {
     "data": {
      "text/plain": [
       "array(['feature request', 'information giving', 'problem discovery',\n",
       "       'information seeking'], dtype=object)"
      ]
     },
     "execution_count": 4,
     "metadata": {},
     "output_type": "execute_result"
    }
   ],
   "source": [
    "data[\"class\"].unique()"
   ]
  },
  {
   "cell_type": "code",
   "execution_count": 5,
   "id": "1314c3fd",
   "metadata": {},
   "outputs": [
    {
     "name": "stdout",
     "output_type": "stream",
     "text": [
      "Length of Dataset:  1390\n",
      "Number of Attributes:  3\n"
     ]
    }
   ],
   "source": [
    "print('Length of Dataset: ', data.shape[0])\n",
    "print('Number of Attributes: ', data.shape[1])"
   ]
  },
  {
   "cell_type": "code",
   "execution_count": 6,
   "id": "eb54a089",
   "metadata": {},
   "outputs": [
    {
     "data": {
      "text/plain": [
       "id        0\n",
       "review    0\n",
       "class     0\n",
       "dtype: int64"
      ]
     },
     "execution_count": 6,
     "metadata": {},
     "output_type": "execute_result"
    }
   ],
   "source": [
    "data.isnull().sum()"
   ]
  },
  {
   "cell_type": "code",
   "execution_count": 7,
   "id": "c7fa3c2d",
   "metadata": {},
   "outputs": [
    {
     "data": {
      "text/plain": [
       "(1390, 2)"
      ]
     },
     "execution_count": 7,
     "metadata": {},
     "output_type": "execute_result"
    }
   ],
   "source": [
    "data.drop('id',axis=1,inplace=True)\n",
    "data.shape"
   ]
  },
  {
   "cell_type": "code",
   "execution_count": 8,
   "id": "3d760c58",
   "metadata": {},
   "outputs": [
    {
     "data": {
      "text/plain": [
       "information giving     603\n",
       "problem discovery      494\n",
       "feature request        192\n",
       "information seeking    101\n",
       "Name: class, dtype: int64"
      ]
     },
     "execution_count": 8,
     "metadata": {},
     "output_type": "execute_result"
    }
   ],
   "source": [
    "data['class'].value_counts()"
   ]
  },
  {
   "cell_type": "code",
   "execution_count": 9,
   "id": "6b35fa8f",
   "metadata": {},
   "outputs": [
    {
     "name": "stderr",
     "output_type": "stream",
     "text": [
      "c:\\Users\\Muzammil\\AppData\\Local\\Programs\\Python\\Python39\\lib\\site-packages\\seaborn\\_decorators.py:36: FutureWarning: Pass the following variable as a keyword arg: x. From version 0.12, the only valid positional argument will be `data`, and passing other arguments without an explicit keyword will result in an error or misinterpretation.\n",
      "  warnings.warn(\n"
     ]
    },
    {
     "data": {
      "text/plain": [
       "<AxesSubplot:xlabel='class', ylabel='count'>"
      ]
     },
     "execution_count": 9,
     "metadata": {},
     "output_type": "execute_result"
    },
    {
     "data": {
      "image/png": "[encoded data removed]",
      "text/plain": [
       "<Figure size 432x288 with 1 Axes>"
      ]
     },
     "metadata": {
      "needs_background": "light"
     },
     "output_type": "display_data"
    }
   ],
   "source": [
    "import seaborn as sns\n",
    "sns.countplot(data['class'])"
   ]
  },
  {
   "cell_type": "code",
   "execution_count": 10,
   "id": "36153471",
   "metadata": {},
   "outputs": [
    {
     "data": {
      "text/html": [
       "<div>\n",
       "<style scoped>\n",
       "    .dataframe tbody tr th:only-of-type {\n",
       "        vertical-align: middle;\n",
       "    }\n",
       "\n",
       "    .dataframe tbody tr th {\n",
       "        vertical-align: top;\n",
       "    }\n",
       "\n",
       "    .dataframe thead th {\n",
       "        text-align: right;\n",
       "    }\n",
       "</style>\n",
       "<table border=\"1\" class=\"dataframe\">\n",
       "  <thead>\n",
       "    <tr style=\"text-align: right;\">\n",
       "      <th></th>\n",
       "      <th>review</th>\n",
       "      <th>class</th>\n",
       "    </tr>\n",
       "  </thead>\n",
       "  <tbody>\n",
       "    <tr>\n",
       "      <th>0</th>\n",
       "      <td>Make it like better with a giant pig bigger th...</td>\n",
       "      <td>feature request</td>\n",
       "    </tr>\n",
       "    <tr>\n",
       "      <th>1</th>\n",
       "      <td>These screens are small enough without crowdin...</td>\n",
       "      <td>information giving</td>\n",
       "    </tr>\n",
       "    <tr>\n",
       "      <th>2</th>\n",
       "      <td>Dear Rovio; If you absolutely must continue tr...</td>\n",
       "      <td>information giving</td>\n",
       "    </tr>\n",
       "    <tr>\n",
       "      <th>3</th>\n",
       "      <td>App crashes when new power up notice pops up.</td>\n",
       "      <td>problem discovery</td>\n",
       "    </tr>\n",
       "    <tr>\n",
       "      <th>4</th>\n",
       "      <td>It would be nice to have an update that didn  ...</td>\n",
       "      <td>information giving</td>\n",
       "    </tr>\n",
       "  </tbody>\n",
       "</table>\n",
       "</div>"
      ],
      "text/plain": [
       "                                              review               class\n",
       "0  Make it like better with a giant pig bigger th...     feature request\n",
       "1  These screens are small enough without crowdin...  information giving\n",
       "2  Dear Rovio; If you absolutely must continue tr...  information giving\n",
       "3      App crashes when new power up notice pops up.   problem discovery\n",
       "4  It would be nice to have an update that didn  ...  information giving"
      ]
     },
     "execution_count": 10,
     "metadata": {},
     "output_type": "execute_result"
    }
   ],
   "source": [
    "data.head()"
   ]
  },
  {
   "cell_type": "markdown",
   "id": "4a472f04",
   "metadata": {},
   "source": [
    "#### Apply LabelEncoding to make target feature into numerical"
   ]
  },
  {
   "cell_type": "code",
   "execution_count": 11,
   "id": "9a03e1c0",
   "metadata": {},
   "outputs": [],
   "source": [
    "from sklearn.preprocessing import LabelEncoder\n",
    "label = LabelEncoder()\n",
    "data['class'] = label.fit_transform(data['class'])"
   ]
  },
  {
   "cell_type": "markdown",
   "id": "5695d33a",
   "metadata": {},
   "source": [
    "#### Feature Request = 0 , Information Giving = 1 , Problem Discovery = 3 , Information Seeking = 4"
   ]
  },
  {
   "cell_type": "code",
   "execution_count": 12,
   "id": "d44f104c",
   "metadata": {},
   "outputs": [
    {
     "data": {
      "text/html": [
       "<div>\n",
       "<style scoped>\n",
       "    .dataframe tbody tr th:only-of-type {\n",
       "        vertical-align: middle;\n",
       "    }\n",
       "\n",
       "    .dataframe tbody tr th {\n",
       "        vertical-align: top;\n",
       "    }\n",
       "\n",
       "    .dataframe thead th {\n",
       "        text-align: right;\n",
       "    }\n",
       "</style>\n",
       "<table border=\"1\" class=\"dataframe\">\n",
       "  <thead>\n",
       "    <tr style=\"text-align: right;\">\n",
       "      <th></th>\n",
       "      <th>review</th>\n",
       "      <th>class</th>\n",
       "    </tr>\n",
       "  </thead>\n",
       "  <tbody>\n",
       "    <tr>\n",
       "      <th>0</th>\n",
       "      <td>Make it like better with a giant pig bigger th...</td>\n",
       "      <td>0</td>\n",
       "    </tr>\n",
       "    <tr>\n",
       "      <th>1</th>\n",
       "      <td>These screens are small enough without crowdin...</td>\n",
       "      <td>1</td>\n",
       "    </tr>\n",
       "    <tr>\n",
       "      <th>2</th>\n",
       "      <td>Dear Rovio; If you absolutely must continue tr...</td>\n",
       "      <td>1</td>\n",
       "    </tr>\n",
       "    <tr>\n",
       "      <th>3</th>\n",
       "      <td>App crashes when new power up notice pops up.</td>\n",
       "      <td>3</td>\n",
       "    </tr>\n",
       "    <tr>\n",
       "      <th>4</th>\n",
       "      <td>It would be nice to have an update that didn  ...</td>\n",
       "      <td>1</td>\n",
       "    </tr>\n",
       "  </tbody>\n",
       "</table>\n",
       "</div>"
      ],
      "text/plain": [
       "                                              review  class\n",
       "0  Make it like better with a giant pig bigger th...      0\n",
       "1  These screens are small enough without crowdin...      1\n",
       "2  Dear Rovio; If you absolutely must continue tr...      1\n",
       "3      App crashes when new power up notice pops up.      3\n",
       "4  It would be nice to have an update that didn  ...      1"
      ]
     },
     "execution_count": 12,
     "metadata": {},
     "output_type": "execute_result"
    }
   ],
   "source": [
    "data.head()"
   ]
  },
  {
   "attachments": {},
   "cell_type": "markdown",
   "id": "7fb222cc",
   "metadata": {},
   "source": [
    "### Data Cleaning"
   ]
  },
  {
   "cell_type": "markdown",
   "id": "10a47ae7",
   "metadata": {},
   "source": [
    "Remove all special and numeric character from data and also remove stopwards and apply Lematizing"
   ]
  },
  {
   "cell_type": "code",
   "execution_count": 13,
   "id": "5ae0fcf7",
   "metadata": {},
   "outputs": [],
   "source": [
    "import nltk\n",
    "import re\n",
    "from nltk.corpus import stopwords\n",
    "from nltk.stem.porter import PorterStemmer\n",
    "from nltk.stem import WordNetLemmatizer"
   ]
  },
  {
   "cell_type": "code",
   "execution_count": 14,
   "id": "f2a1798e",
   "metadata": {},
   "outputs": [],
   "source": [
    "X = data['review']\n",
    "y = data[['class']]"
   ]
  },
  {
   "cell_type": "code",
   "execution_count": 15,
   "id": "21e34300",
   "metadata": {},
   "outputs": [
    {
     "name": "stderr",
     "output_type": "stream",
     "text": [
      "[nltk_data] Downloading package stopwords to\n",
      "[nltk_data]     C:\\Users\\Muzammil\\AppData\\Roaming\\nltk_data...\n",
      "[nltk_data]   Package stopwords is already up-to-date!\n",
      "[nltk_data] Downloading package wordnet to\n",
      "[nltk_data]     C:\\Users\\Muzammil\\AppData\\Roaming\\nltk_data...\n",
      "[nltk_data]   Package wordnet is already up-to-date!\n",
      "[nltk_data] Downloading package omw-1.4 to\n",
      "[nltk_data]     C:\\Users\\Muzammil\\AppData\\Roaming\\nltk_data...\n",
      "[nltk_data]   Package omw-1.4 is already up-to-date!\n"
     ]
    },
    {
     "data": {
      "text/plain": [
       "True"
      ]
     },
     "execution_count": 15,
     "metadata": {},
     "output_type": "execute_result"
    }
   ],
   "source": [
    "nltk.download('stopwords')\n",
    "nltk.download('wordnet')\n",
    "nltk.download('omw-1.4')\n"
   ]
  },
  {
   "cell_type": "code",
   "execution_count": 16,
   "id": "27292cca",
   "metadata": {},
   "outputs": [],
   "source": [
    "wordnet=WordNetLemmatizer()\n",
    "ps = PorterStemmer()"
   ]
  },
  {
   "cell_type": "code",
   "execution_count": 17,
   "id": "7a82f9e2",
   "metadata": {},
   "outputs": [],
   "source": [
    "corpus = []\n",
    "for i in range(len(X)):\n",
    "    review = re.sub('[^a-zA-Z]', ' ', X[i])\n",
    "    review = review.lower()\n",
    "    review = review.split()\n",
    "    review = [wordnet.lemmatize(word) for word in review if not word in set(stopwords.words('english'))]\n",
    "    review = ' '.join(review)\n",
    "    corpus.append(review)"
   ]
  },
  {
   "cell_type": "code",
   "execution_count": 18,
   "id": "79b7bb37",
   "metadata": {},
   "outputs": [
    {
     "name": "stdout",
     "output_type": "stream",
     "text": [
      "screen small enough without crowding stuff tuck rest add ons never use please get face\n"
     ]
    }
   ],
   "source": [
    "print(corpus[1])"
   ]
  },
  {
   "cell_type": "code",
   "execution_count": 19,
   "id": "51a2784b",
   "metadata": {},
   "outputs": [
    {
     "data": {
      "text/plain": [
       "['make like better giant pig bigger king pig',\n",
       " 'screen small enough without crowding stuff tuck rest add ons never use please get face',\n",
       " 'dear rovio absolutely must continue trying squeeze dollar customer way least decency include opt like absolutely going spend amount equal paid app first place gimmicky expendable game item',\n",
       " 'app crash new power notice pop',\n",
       " 'would nice update crash app',\n",
       " 'app crash new release',\n",
       " 'problem version far',\n",
       " 'please bring back trajectory line least make turn',\n",
       " 'worth buying crash right beginning',\n",
       " 'say make shock close button like use bird provide',\n",
       " 'need change',\n",
       " 'similarly every single app get updated beautiful io look one update',\n",
       " 'really fixed',\n",
       " 'still upload video',\n",
       " 'anyone else problem app even open',\n",
       " 'need save photo',\n",
       " 'never issue user year',\n",
       " 'app work unless io update device update really fix',\n",
       " 'see must io better app',\n",
       " 'please please give u ability rename file app',\n",
       " 'rate view',\n",
       " 'still cannot believe team dropbox still',\n",
       " 'sez need software update apple sez software uptodate',\n",
       " 'would allow get work done phone edit file go project',\n",
       " 'thing need offer better customized pricing upgrade plan',\n",
       " 'please please fix video upload issue',\n",
       " 'ni would turn automatic uploads need regular photo upload',\n",
       " 'please please please easy change used way make go back',\n",
       " 'please fix syncing issue ipad app',\n",
       " 'trying automate would good worked',\n",
       " 'everything white',\n",
       " 'picture show white background like io photo app',\n",
       " 'u dropbox employer improved mostly everything app ability rename file whereas web version',\n",
       " 'ask would like use background uploading remember preference pester every time open app turn feature',\n",
       " 'loyal en fan year week frozen reinstalling ipad iphone crash time open',\n",
       " 'holiday disorganized mess without en',\n",
       " 'reason quite feel user friendly yet',\n",
       " 'available ipad iphone',\n",
       " 'latest version crash launch ipad io',\n",
       " 'need note',\n",
       " 'contacted evernote support working fix',\n",
       " 'note see',\n",
       " 'crash time way resolve uninstall reinstall app',\n",
       " 'new version crash startup iphone ipad',\n",
       " 'deleting app reinstalling work either',\n",
       " 'latest version crash launch iphone',\n",
       " 'third update month crashed upon installation',\n",
       " 'crash',\n",
       " 'got latest update open phone',\n",
       " 'please fix asap',\n",
       " 'crash loading',\n",
       " 'please fix',\n",
       " 'latest interface substandard useability standpoint besides ugly latest version launch iphone',\n",
       " 'update',\n",
       " 'latest update crash every time startup',\n",
       " 'count evernote many thing across many device app crash iphone',\n",
       " 'please fix least let u know working',\n",
       " 'latest update crash',\n",
       " 'problem latest evernote update fix n nif installed latest update amp evernote still crashing n ngo setting privacy contact look evernote amp select',\n",
       " 'crash shortly upon launch',\n",
       " 'evernote please fix asap',\n",
       " 'use note application trust lose information',\n",
       " 'since io continues crash upon opening',\n",
       " 'let hospital needed medication list healthcare power attorney living',\n",
       " 'epic fail',\n",
       " 'upgrade newest version connectivity problem wifi open',\n",
       " 'even clean install app crash nguys please test update releasing',\n",
       " 'could app fail completely',\n",
       " 'made complicated n difficult use lot easier update ago idea add note',\n",
       " 'remain open second crash',\n",
       " 'n ndeletion reinstallation app yet resolve issue',\n",
       " 'app keep freezing crash',\n",
       " 'upon latest upgrade crash open',\n",
       " 'upgrade ipad',\n",
       " 'disappointed access info premium user',\n",
       " 'newest update crash repeatedly',\n",
       " 'update',\n",
       " 'access note',\n",
       " 'latest upgrade issue crash cannot access anything',\n",
       " 'please fix',\n",
       " 'tried delete reinstall fix problem',\n",
       " 'new version crash every time iphone',\n",
       " 'please get fix soon',\n",
       " 'new version crash hand deleted min went back old version syncing itunes library pc',\n",
       " 'nthe biggest problem new version people like notebook tag big trouble switching note',\n",
       " 'tap several time switch',\n",
       " 'n nthe second problem ugly interface probably matching ugly icon io',\n",
       " 'crash',\n",
       " 'mwingerski development team focus making app work rather always adding new feature might give five star nnew feature totally worthless even open app update ndon bother sending support request within app one ever read even premium subscriber',\n",
       " 'unable sync past problem',\n",
       " 'nthought resolved problem uninstalled reinstalled app iphone',\n",
       " 'recent update cause evernote io fail',\n",
       " 'whit screen death even use',\n",
       " 'problem paying premium includes something basic essential joke pay',\n",
       " 'qa',\n",
       " 'update crash time',\n",
       " 'evernote launched update crash ipad iphone',\n",
       " 'even premium version bought several book use tool',\n",
       " 'think power take understand user',\n",
       " 'extending brand notebook backpack coffee mug shirt work starbucks coffee taste good reliably available',\n",
       " 'update',\n",
       " 'last update crash upon opening ipad iphone',\n",
       " 'try open second crash home screen',\n",
       " 'tried uninstalling rebooting reinstall result occurs',\n",
       " 'please fix asap',\n",
       " 'new version crash ipad iphone',\n",
       " 'please fix app',\n",
       " 'update crash nclean install n nevernote help help nevernote',\n",
       " 'like available platform',\n",
       " 'love evernote become reliant one apps without however without crash open open iphone',\n",
       " 'tried delete reinstall still crash',\n",
       " 'sclathos evernote working upgrade',\n",
       " 'open crash sometimes open',\n",
       " 'open note load',\n",
       " 'try take photo note app crash',\n",
       " 'completely crash startup iphone ipad',\n",
       " 'app crash update even reboot reinstall',\n",
       " 'please address issue',\n",
       " 'one time favorite apps however latest update make unable freeze crash',\n",
       " 'great program since last update last night crash every time open',\n",
       " 'n ni uninstalled reinstalled still crash',\n",
       " 'uninstalled clean boot installed still crash evernote please fix asap',\n",
       " 'must get app one best',\n",
       " 'probably best app available easy use make lot fun nlove using iphone',\n",
       " 'also practical us show picture hair stylist pin recipe know need store etc',\n",
       " 'love app think best recommend anyone love kill time computer',\n",
       " 'complaint change orientation especially bothersome video',\n",
       " 'little inconvenient could improved',\n",
       " 'feel need notified someone creates new board',\n",
       " 'problem app',\n",
       " 'much fun give many idea approach life',\n",
       " 'also great cleaning idea personal idea like make facial scrub',\n",
       " 'problem pinterest lose track time',\n",
       " 'would nice would let start typing name board would pull',\n",
       " 'thank adding secret board',\n",
       " 'lot recipe trying find recipe made year ago make dinner frustrating search find quickly',\n",
       " 'minor problem happens often still love app',\n",
       " 'use anything easy use',\n",
       " 'way intuitive',\n",
       " 'kinda technologically challenged admit ideally app programmed designed people like mind',\n",
       " 'always date never crash',\n",
       " 'issue search function pin accurate',\n",
       " 'good use bit improvement like sometimes picture doesnt show take get back would',\n",
       " 'work smoothly easily every time use app say apps',\n",
       " 'love app crashing anymore',\n",
       " 'wish way put board alphabetical order without moving individually',\n",
       " 'love able pin clipboard',\n",
       " 'like everything app except fact pin anything iphone',\n",
       " 'complaint would pin reported possible threat removed',\n",
       " 'problem iphone',\n",
       " 'wake middle night grab phone start pinning',\n",
       " 'please fix problem let u pin',\n",
       " 'app ipad regularly crash',\n",
       " 'bombarded ad anywhere need sit browse',\n",
       " 'never issue crashing',\n",
       " 'problem fact say minute turn hour',\n",
       " 'however crashed couple time recently ipad',\n",
       " 'might use time day home made goody alone',\n",
       " 'n absolutely hate new way list category picture please go back old list let u choose like use',\n",
       " 'updated app lot better',\n",
       " 'luckily crashing issue would probably cry lol',\n",
       " 'could tell many fun idea tried loved pinterest',\n",
       " 'think much easier pin thing app pin website',\n",
       " 'love looking wedding stuff help plan upcoming wedding',\n",
       " 'like pinterest lot really need managed better',\n",
       " 'adding like updated fragmented board',\n",
       " 'use everyday',\n",
       " 'frequent app crash ipad please fix bug',\n",
       " 'pinterest go need idea anything hair style crafting cooking whatever',\n",
       " 'n n update new version n ni preferred last layout still crash orientation change random',\n",
       " 'put effort new layout fix major bug',\n",
       " 'feel need remove',\n",
       " 'think improvement may needed think',\n",
       " 'please fix bug',\n",
       " 'job need occasional crash use daily probably crash week nuisance briefly',\n",
       " 'lock crash often',\n",
       " 'sha chey renee new update crash click image see follower following please change',\n",
       " 'would given star except crash reason amp whatever looking lost',\n",
       " 'feature removed',\n",
       " 'please fix soon',\n",
       " 'want change cover board update please fix got rid please bring back',\n",
       " 'however last update something happened app crash constantly get picture gone',\n",
       " 'please fix soon',\n",
       " 'thing crash lot',\n",
       " 'homelessdragon say need grant access log via facebook',\n",
       " 'find annoying pinterest keep crashing literally every minute problem',\n",
       " 'work fine sometimes since new update leave come back app image show',\n",
       " 'please change back',\n",
       " 'seen many people issue currently mine take gb memory save every single photo u pin look cache',\n",
       " 'never issue',\n",
       " 'annoyed delete pin notification tab',\n",
       " 'whether need inspiration planning birthday party motivation work outfit idea pinterest first stop',\n",
       " 'one best apps ever created useful fun look',\n",
       " 'cool save thing like well',\n",
       " 'n n however know way contact pinterest order suggest idea app improvement',\n",
       " 'n would like suggest idea pinterest create folder board',\n",
       " 'think get',\n",
       " 'scroll instead touching letter find board',\n",
       " 'love app',\n",
       " 'great able see detail need without wasting paper taking lot space small table',\n",
       " 'ipad longer crash happy camper',\n",
       " 'please undo terrible update',\n",
       " 'aesthetically better looking work well',\n",
       " 'new update causing problem first crashing ipad almost every day',\n",
       " 'load correctly picture missing board missing cover pic even edit option change picture anymore',\n",
       " 'smash lover pinterest like social medium drug little need lot',\n",
       " 'bdmama love app pin etsy website pinterest button ipad mini',\n",
       " 'let update app',\n",
       " 'since update login fb acct',\n",
       " 'app great please fix',\n",
       " 'want know anybody problem update pinterest',\n",
       " 'need app back',\n",
       " 'try update say app longer available',\n",
       " 'cant get app say longer available',\n",
       " 'trying update keep saying item trying purchase available',\n",
       " 'um trying purchase trying update please fix asap saying connect itunes getting frustrated',\n",
       " 'uninstalled tried update said tried buy longer available',\n",
       " 'reinstall',\n",
       " 'trying update phone telling pinterest longer available',\n",
       " 'update came tried update said let',\n",
       " 'love pinterest always wished way go easily pin pin board category',\n",
       " 'excited see added swiping feature latest update',\n",
       " 'tried update app update bug fix tell item trying buy longer available',\n",
       " 'say available purchase',\n",
       " 'reason letting update amp update longer available deleted app',\n",
       " 'tried uninstalling reinstalling let download app',\n",
       " 'say item tried buy longer available',\n",
       " 'grlnxtdr u pinterest app saying need update getting message choose update',\n",
       " 'download app',\n",
       " 'say longer available',\n",
       " 'happened',\n",
       " 'happened',\n",
       " 'magirlokmynameisnicky let create account think bug something',\n",
       " 'problem since update',\n",
       " 'course adore pinterest app always bug last update made pinterest completely unusable',\n",
       " 'need pinterest',\n",
       " 'even open app latest update',\n",
       " 'thing wrong go repin something go write description click box crash',\n",
       " 'cannot access notification anymore try change caption post comment anymore',\n",
       " 'love love pintrest hate sometimes crash since io come never problem issue great app',\n",
       " 'put finger pin picture instantly option pop',\n",
       " 'like new update',\n",
       " 'work great nvr problem gotten bad idea pinterest',\n",
       " 'issue sensitive',\n",
       " 'updated crash every time use',\n",
       " 'problem get want stop',\n",
       " 'look pin much else last two day',\n",
       " 'app shuts load pin edit pin',\n",
       " 'perfect updated minute ago',\n",
       " 'love portable computer use working cooking kitchen',\n",
       " 'like missing',\n",
       " 'update forgot put back edit board cover ipad user',\n",
       " 'pinterest best tool fashion designer need draw inspiration different culture historical era',\n",
       " 'view pin notification disappeared crash constantly',\n",
       " 'nwish could secret board please add feature',\n",
       " 'online hoarding could better',\n",
       " 'please fix bug problem thank',\n",
       " 'way fail pinterest',\n",
       " 'app created addition pinterest',\n",
       " 'app amazing iphone use computer annoying pin isnt fast dont like computer rather use iphone besides love',\n",
       " 'live without',\n",
       " 'liked letter side roll entire list board pin something',\n",
       " 'please find way sort diy etsy stuff apart frustrating click project find diverted etsy store',\n",
       " 'need sort idea check pinterest',\n",
       " 'absolutely recommend pinterest although addicting',\n",
       " 'use pinterest need app',\n",
       " 'sometime click go website overall good app',\n",
       " 'still feel larger company email synch app get alert click email go app web page',\n",
       " 'however like decided change entire way pin look everything made type small colorful pleading eye',\n",
       " 'would never able see many wonderful thing world offer pinterest',\n",
       " 'love using pinterest research kind thing usually find info appropriate want know search engine',\n",
       " 'however constantly crash freeze',\n",
       " 'love using app annoying need fix glitch',\n",
       " 'love need idea craft stain carpet find idea solution everything',\n",
       " 'learn many thing pinterest',\n",
       " 'learned cut hair',\n",
       " 'know people put one star made mistake',\n",
       " 'could love',\n",
       " 'like week ago never problem understand going',\n",
       " 'need get fixed fast',\n",
       " 'nmy qualm able easily save picture',\n",
       " 'minor issue though',\n",
       " 'love pinterest amp apps user friendly website need way mark stopped browsing home feed',\n",
       " 'app never crash anymore',\n",
       " 'helping plan bunch different thing want accomplish future excited',\n",
       " 'quite pin click pull picture take completely different page find page take right need world wonder',\n",
       " 'like app might moment fantastic',\n",
       " 'glad made app',\n",
       " 'change pinterest last update',\n",
       " 'change thing broken',\n",
       " 'made many recipe diy project',\n",
       " 'given idea renovate kitchen teach algebra kid build mud room etc',\n",
       " 'great site need improve stability',\n",
       " 'anything everything could ever want think one site',\n",
       " 'love pin without click million different thing',\n",
       " 'crash',\n",
       " 'app better need app time day',\n",
       " 'almost never issue except sometimes notification refresh sometimes notification take day show',\n",
       " 'think cool swipe apps like feature could swipe back previous page anymore',\n",
       " 'great idea like minded people organization brain best',\n",
       " 'time pin take long time load overall great app recommend anyone',\n",
       " 'ever since io update app crash whenever try look notification',\n",
       " 'best app site ever lot information find everything need',\n",
       " 'never problem always work well',\n",
       " 'love new easier way pin holding item',\n",
       " 'happened able pin photo fb wall',\n",
       " 'love app crash minuet searching looking',\n",
       " 'easy work well million time organized know',\n",
       " 'time love organize board',\n",
       " 'never problem crashing',\n",
       " 'love pinterest app crash time time',\n",
       " 'easy use find anything need little searching effort',\n",
       " 'love pinterest crash try look pin notice',\n",
       " 'problem spend much time',\n",
       " 'problem multiple upload option',\n",
       " 'would nice easily move pin pinned mistakingly wrong bored',\n",
       " 'old way fine',\n",
       " 'still could use minor tweak overall good',\n",
       " 'please restore back way',\n",
       " 'brynnmlj every time open feed crash profile',\n",
       " 'need make fix',\n",
       " 'drag drop whole board pin within board',\n",
       " 'recently many update including ability swipe pin well sending pin another user added great quality app',\n",
       " 'p n ni highly recommend app',\n",
       " 'notification broken access sent pin',\n",
       " 'may slightly addicted',\n",
       " 'like comment scroll board get one really hate cant one board open time x corner',\n",
       " 'bottom work',\n",
       " 'favorite app world sudden starting crash really annoying please fix',\n",
       " 'great way pas time u need good idea',\n",
       " 'start stop',\n",
       " 'love looking crisp beautiful image amp great idea easy categorize',\n",
       " 'thing hate bug shut usually inadvertently many window open',\n",
       " 'addicted everyone pinterest',\n",
       " 'far good problem',\n",
       " 'sure would nice app crash often pinning freeze',\n",
       " 'update need included app order keep moving',\n",
       " 'one get list category home magnifying glass plus sign person',\n",
       " 'like pin listed following',\n",
       " 'fantastic idea recipe awesome',\n",
       " 'load new pin people follow click view people follow crash close app',\n",
       " 'love app crash much',\n",
       " 'pretty good representation website took figure save photo camera roll',\n",
       " 'app still crash lot often lose page switch another app moment really annoying',\n",
       " 'fan new layout app still crash even recent io platform',\n",
       " 'whenever need idea anything find ton',\n",
       " 'receive lot pin frustrating pin show small think would cool come like pin pinning',\n",
       " 'pin left need moved back middle',\n",
       " 'wish new update made slide show option sometimes want flip pin instead click one one time',\n",
       " 'recommend every wedding planner fashionista technology mogul diy fanatic food craver comedic lover many',\n",
       " 'highly recommend',\n",
       " 'try fix something need fixing',\n",
       " 'reverse please',\n",
       " 'even need apps',\n",
       " 'ever live without pinterest',\n",
       " 'thing wish would would allow print ipad easily',\n",
       " 'complaint crash random time',\n",
       " 'though crash couple minute ipod',\n",
       " 'miss could save photo iphone love app',\n",
       " 'give lot idea tatoos home decor building make life easier amp fun',\n",
       " 'use time love rarely crash',\n",
       " 'well put together using little bit iphone app crash',\n",
       " 'using ipad crash ipad shuts restarts self',\n",
       " 'search search stuff interest web also add information others see',\n",
       " 'also liked choosing board close new pin allowing make additional change wording pin',\n",
       " 'none thing lot people really liked alphabet scroll bar board would nice could bring back next bug fix',\n",
       " 'complaint would occasional crash',\n",
       " 'please fix bug',\n",
       " 'love update enjoy still crash lot',\n",
       " 'app crash least twice day fully loading activity pin getting',\n",
       " 'wish could last version back',\n",
       " 'like pull menu please fix',\n",
       " 'please fix',\n",
       " 'please fix ur problem',\n",
       " 'please fix',\n",
       " 'please fix',\n",
       " 'happened notification',\n",
       " 'showing brand new one problem sometimes get come back gone',\n",
       " 'please please fix',\n",
       " 'happened related pin got bottom pin',\n",
       " 'hate longer see item people pinned click specific pin',\n",
       " 'made much fun unlimited exploring',\n",
       " 'please fix',\n",
       " 'past notification gone liked able look past one access related pin really helpful narrowing search result',\n",
       " 'please fix bigs',\n",
       " 'nthat found pin gone',\n",
       " 'please fix',\n",
       " 'thank putting time bar back crashing le thus far',\n",
       " 'many time pinterest definitely need thing',\n",
       " 'barely go minute crashing',\n",
       " 'numerous board click make keyboard go away change caption scroll bottom board list keyboard block',\n",
       " 'reach across screen obtain list board',\n",
       " 'longer see number follower board',\n",
       " 'total number board longer show main page',\n",
       " 'broken fixed',\n",
       " 'please fix',\n",
       " 'stop pinning',\n",
       " 'hate new layout menu bar bottom way tap outside box close close x switched side pin button',\n",
       " 'nthe one positive crashed since update',\n",
       " 'use pinterest lot version still issue last couple update',\n",
       " 'crash constantly occasionally crash ipad',\n",
       " 'need fixed useless thing added like map option',\n",
       " 'point last update make app difficult possible use',\n",
       " 'like choose board cover new update',\n",
       " 'provides access idea everything',\n",
       " 'great app would nice could change tag mobile version',\n",
       " 'figure change board cover update',\n",
       " 'doubt even posted',\n",
       " 'obviously pinterest spam issue',\n",
       " 'please clear',\n",
       " 'every since updated io app crash whole ipad',\n",
       " 'please fix like using pinterest browser',\n",
       " 'please fix',\n",
       " 'please fix',\n",
       " 'change board cover',\n",
       " 'however guy forgot add follow count individual board',\n",
       " 'crash five time day working awesome',\n",
       " 'hopefully crashing fixed open page',\n",
       " 'n nalso remove number pin per board',\n",
       " 'please pay attention negative feedback',\n",
       " 'happened option saving photo pinterest directly camera roll ipads',\n",
       " 'totally counterintuitive make thing really difficult',\n",
       " 'user friendly navigate issue pin something pin button reach',\n",
       " 'email pin upgrade sluggish',\n",
       " 'please put back',\n",
       " 'please add tag bc search feature becomes useless description say cute adorable search entire board find something',\n",
       " 'half attempted pin fail hide amp seek bottom dock real pain use much much harder navigate general older version',\n",
       " 'please bring back last version let u grade atrocious unusable fail',\n",
       " 'need update layout fill like everything hidden want better task bar',\n",
       " 'version crashed many time previous one',\n",
       " 'board subject type restriction distinguishing key phrase',\n",
       " 'crash happy',\n",
       " 'app crashing trying send direct message via email',\n",
       " 'look bland apparently pinterest forgotten ton pinner diy crafting nut probably tell may slight problem pinterest',\n",
       " 'please fix love',\n",
       " 'please fix',\n",
       " 'love app open notification crash',\n",
       " 'please know adore app',\n",
       " 'please fix bug',\n",
       " 'way used filter certain topic like tattoo wedding dress',\n",
       " 'app totally worthless everything right working',\n",
       " 'updated iphone app open app page blank',\n",
       " 'bsra love app ever since updated work',\n",
       " 'please fix annoying limit use site',\n",
       " 'updated app pin show news feed category',\n",
       " 'please fix',\n",
       " 'quite annoyed would really like fix situation',\n",
       " 'please fix otherwise love app useless view anything',\n",
       " 'please restore way open pin link external browser let u save photo',\n",
       " 'wish could secret board',\n",
       " 'app crash terrible',\n",
       " 'pinterest crash ipad boot screen',\n",
       " 'think one instance another app',\n",
       " 'say problem would app addicting',\n",
       " 'need fixed',\n",
       " 'addition secret board great idea',\n",
       " 'every pin direct link buy item inside',\n",
       " 'category',\n",
       " 'use home work get new idea',\n",
       " 'love app would also love added way see pin people sent amp pin sent people',\n",
       " 'love seeing others idea',\n",
       " 'app crash ipad since io update',\n",
       " 'happened',\n",
       " 'please bring back',\n",
       " 'please bring back save camera roll',\n",
       " 'prior newest update love app problem sometimes want pin let click pin',\n",
       " 'everything need',\n",
       " 'every time go website pin come back crash',\n",
       " 'email cause crash every time',\n",
       " 'please repost old one downgrade',\n",
       " 'except change board cover pin',\n",
       " 'glad added business profile',\n",
       " 'love personalizing',\n",
       " 'find help devloper page online',\n",
       " 'please bring back old',\n",
       " 'please change back hate everything',\n",
       " 'still crash since updated ipad io',\n",
       " 'pinterest need',\n",
       " 'seriously find epic fail',\n",
       " 'unable post comment message get exceeded rate',\n",
       " 'think trying post content might spam',\n",
       " 'love app open page see pin click go website',\n",
       " 'wish would allow scroll home page one column rather iphone',\n",
       " 'pretty much anything want know design',\n",
       " 'ni need hour day',\n",
       " 'never issue app',\n",
       " 'crash randomly often',\n",
       " 'daughter created bunch item app',\n",
       " 'problem',\n",
       " 'many great idea yummy recipe hillarious ecards',\n",
       " 'okay sometimes buggy since last update problem',\n",
       " 'issue refuse let pin awhile get frustrating otherwise love',\n",
       " 'like pin lead dead site removed',\n",
       " 'love pintrest much give many craft idea keep busy bored',\n",
       " 'problem find anything looking',\n",
       " 'make difficult find thing since try remember created board make easier find',\n",
       " 'please fix',\n",
       " 'also issue pin clickable',\n",
       " 'love app crash every minute never save thing pin',\n",
       " 'stop',\n",
       " 'ipad version several problem including stacking open window background alphabetizing new category page frequent unexpected program crash',\n",
       " 'ever need inspiration surely find',\n",
       " 'since upgrading io app frequently crash',\n",
       " 'please fix stability',\n",
       " 'please fix asap',\n",
       " 'creates problem addiction',\n",
       " 'latest revision app stability problem',\n",
       " 'new update keep crashing app every time try open pin',\n",
       " 'please fix',\n",
       " 'love able use pinterest thru app seems problem',\n",
       " 'issue pin link click picture get photo',\n",
       " 'amazing idea imagination endless',\n",
       " 'also world communicate someone send pin',\n",
       " 'go app need idea',\n",
       " 'excellent app though occasionally crash browsing',\n",
       " 'push notification working iphone although set properly open sent pin email ipad force safari open open app',\n",
       " 'everything need',\n",
       " 'please fix please please please',\n",
       " 'adriano plotzki reading many tip sleep without pinterest still',\n",
       " 'love app hate see time',\n",
       " 'learned pin pic',\n",
       " 'great app newest update crash often pinning ipad',\n",
       " 'anyone know please post',\n",
       " 'problem start get',\n",
       " 'every time get crash cause ipad restart',\n",
       " 'amazing much fun',\n",
       " 'everything ever need right app get soo many inspiring idea category',\n",
       " 'appears bug fixed',\n",
       " 'great service almost great app n nbasic function wait fully functional',\n",
       " 'hard fund menu item',\n",
       " 'next partner except fact whenever middle reading extra long pin crash',\n",
       " 'sometimes crash',\n",
       " 'much like lose pinterest like sense time browsing around app',\n",
       " 'idea need want',\n",
       " 'one many able use app',\n",
       " 'love pinterest lot crashing since last update',\n",
       " 'would nice one could rearrange board page category similar next able arrange board page one liking',\n",
       " 'also problem constant crashing pin lead nowhere',\n",
       " 'please fix',\n",
       " 'get ready find thing even know wanted',\n",
       " 'love pinterest open anymore without crashing',\n",
       " 'however one frustrating development deeper link say follow pin site click another link want pin app consistently crash',\n",
       " 'would cool see type messaging system integrated could suggest pin friend alerted one friend commented something pinned',\n",
       " 'easy crash often',\n",
       " 'please fix',\n",
       " 'please fix',\n",
       " 'love',\n",
       " 'amylovescats download app u want life outside pinterest',\n",
       " 'everything need',\n",
       " 'highly recommend app',\n",
       " 'liked previous version app way many advertisement pop pinning',\n",
       " 'issue every kick app',\n",
       " 'pinterest',\n",
       " 'team tried totally missing',\n",
       " 'love pinterest app crash quite often',\n",
       " 'research turn many ppl problem pinterest app specific problem',\n",
       " 'please release update fix',\n",
       " 'complaint whatsoever except app crash time time ipad air',\n",
       " 'ever since last update crash constantly make frustrating use',\n",
       " 'ever since latest update ipad app crash several time session clicking specific pin',\n",
       " 'highly recommend app',\n",
       " 'however wish way alphabetize board',\n",
       " 'greatly enjoy pinterest problem find go back place click something window phone',\n",
       " 'u love app',\n",
       " 'open link safari look people board hardly board pin load tell pin count',\n",
       " 'complaint would sometimes unexpectedly crash sometimes make lose great pin',\n",
       " 'anytime need idea reason fingertip',\n",
       " 'please fix',\n",
       " 'new update cause crash everytime try open notification',\n",
       " 'itunes constantly crash ipad',\n",
       " 'issue experienced uploading certain picture able others view',\n",
       " 'however crashing shutting device must reboot',\n",
       " 'update crash ipad try open pin totally obsessed love idea get',\n",
       " 'added ability upload pic happy give star',\n",
       " 'app always crash try send pin ipad',\n",
       " 'liked could back swipe return pervious page post go another pin',\n",
       " 'wish could move one pin time new board',\n",
       " 'create board see friend pinning',\n",
       " 'definitely recommended anyone looking fun productive way pas time',\n",
       " 'love selecting favs adding pix',\n",
       " 'never problem crashing',\n",
       " 'get everything need one place food craft funny picture wedding idea',\n",
       " 'amazing highly recommend anyone tried',\n",
       " 'save thing want see later pinning',\n",
       " 'great app love site get pin directly iphone let face us computer often anymore',\n",
       " 'really good idea home decor cooking crafting etc favorite feature travel photo amazing place one add one bucket list',\n",
       " 'app really help keep organized everything might want done love want remember',\n",
       " 'wanting get pinterest go far happy app deal update yet love still easy use iphone use tablet computer',\n",
       " 'frustrating crash constantly ipad',\n",
       " 'every many pin search even pulling owns pin crash',\n",
       " 'sorry forgot rating',\n",
       " 'many idea theme could explore forever',\n",
       " 'viewing many place world get traveling idea n fix thing house hair makeup etc amp amazing party idea',\n",
       " 'ni find anything beautiful art photo celebrity flower idea bouquet arrangement npinterest helpful amp useful app live without',\n",
       " 'made daily life much easier',\n",
       " 'matter looking',\n",
       " 'problem spend much time surfing idea run time',\n",
       " 'addicted pinterest updated open app even safari',\n",
       " 'one create pin pinterest',\n",
       " 'crash every time close pin looking',\n",
       " 'copy link open browser otherwise get grey screen',\n",
       " 'app great crashing ipad',\n",
       " 'ever since update screen orientation changed app crash ipad go right along',\n",
       " 'repeatedly crash reset',\n",
       " 'n nupdate third update since originally wrote review still crashing regular basis',\n",
       " 'best idea people creative think addicted',\n",
       " 'please continue always',\n",
       " 'plan get associate hooked',\n",
       " 'love love love lot inspiration find anything need',\n",
       " 'wish able create sub board',\n",
       " 'entire ipad crash using pinterest since update',\n",
       " 'never problem app',\n",
       " 'also problem crashing',\n",
       " 'addicted pinterest always crashing',\n",
       " 'love app',\n",
       " 'love pinterest stop looking stuff',\n",
       " 'sometimes unable see pin like board coming along',\n",
       " 'app never fails surprise',\n",
       " 'love app crash whole ipad restart',\n",
       " 'please fix bug',\n",
       " 'creates stack open page',\n",
       " 'manually close page one looking program crash click',\n",
       " 'love site crashing since last update',\n",
       " 'pinterest crash burn harder ford pinto',\n",
       " 'crashing bug need fixed adding crap use',\n",
       " 'need fixed show review',\n",
       " 'perfect go need look something saved',\n",
       " 'found many good idea recipe easy organize use later',\n",
       " 'application crash trying open link',\n",
       " 'please fix otherwise awesome app',\n",
       " 'completely addicted update added addiction',\n",
       " 'pin fast enough',\n",
       " 'open pin',\n",
       " 'never gotten many idea creative',\n",
       " 'elementary art teacher could better app phone many good idea',\n",
       " 'bad thing crash quite bit',\n",
       " 'app crash entirely much',\n",
       " 'app constantly crash',\n",
       " 'try send pin someone pin something viewed one board app either crash get blue screen ipad restarts',\n",
       " 'app continually crashing',\n",
       " 'please get fixed',\n",
       " 'love app get lot recipe able open grocery store see need buy recipe cooking easy follow recipe right phone',\n",
       " 'love app big time last update would seem crash time',\n",
       " 'first place look need something',\n",
       " 'new update app make much stable like make pinterest folder within app',\n",
       " 'hate crash ipad though amp difficult open pin time',\n",
       " 'one thing missing amp something like see red light notification like website version',\n",
       " 'new io app update open pin link safari app',\n",
       " 'totally recommend',\n",
       " 'pintrest greatest idea great need clear full recipe',\n",
       " 'disappointed pinterest ipad app continues crash attempting open pinned link',\n",
       " 'please fix soon possible app played important role leisure time',\n",
       " 'idea endless',\n",
       " 'open picture view larger rare open url',\n",
       " 'please fix',\n",
       " 'addictive app filled craft idea step step tutorial create',\n",
       " 'love',\n",
       " 'need cookbook anymore pinterest',\n",
       " 'op problem app',\n",
       " 'save video one place renovation idea party planning idea dream decorating idea plan garden next year',\n",
       " 'however always work absolutely know pin word description',\n",
       " 'whtsap hngng smetms nw need updte whch cn imprve whtsap please give updte quckly',\n",
       " 'art support waiting update since month apps except whatsapp support coz use art',\n",
       " 'nice please fix whatsapp contact profile picture cannot see',\n",
       " 'earlier running awesome since last update running slowly plz resolve prob',\n",
       " 'whatsapp setting',\n",
       " 'good cannot see last seen statement though',\n",
       " 'abt u give android user functionality',\n",
       " 'crash app crash frequently htc phone',\n",
       " 'average need emotion',\n",
       " 'installation problem able install whatsapp lenovo',\n",
       " 'four star wonderful app provides good way stay contact peepz need improvement especially de area speed',\n",
       " 'happy want developer improve app cz updated fone app working',\n",
       " 'new flag added nt work plz update',\n",
       " 'please make update last seen freeze hide last seen option',\n",
       " 'need kind update',\n",
       " 'medium sharing good better mb medium sharing incresed excenlt please improve give star',\n",
       " 'please add feature please add feature like whatsapp plus',\n",
       " 'connecting please sort',\n",
       " 'block list updated block list',\n",
       " 'built protection system',\n",
       " 'great great app need improvement io device',\n",
       " 'please need help',\n",
       " 'cool app please make sure delete medium received memory chat',\n",
       " 'fix update feature properly done one go possibly twice activate previous whatapps conversation account',\n",
       " 'true set',\n",
       " 'please need zimbabwean flag',\n",
       " 'using much memory whatsapp using much memory something whatsapp team user low memory',\n",
       " 'payements good free like skype',\n",
       " 'cant download image video sent try download image video say download unable complete please try later',\n",
       " 'tried uninstall problem still',\n",
       " 'please check problem',\n",
       " 'defect please correct defect listen voice note screen becomes whole black able clearly hear voice',\n",
       " 'error',\n",
       " 'whats fail download solution',\n",
       " 'alone bad updating new version mobil coming error',\n",
       " 'play game',\n",
       " 'crash opening every time',\n",
       " 'even know use spell check phone heaven sake',\n",
       " 'please get game soon take wait',\n",
       " 'nhi aim improved ability figure get star level',\n",
       " 'get waiting failed update',\n",
       " 'updated io software phone',\n",
       " 'know better rovio',\n",
       " 'went print schedule request form clicked print icon crashed every attempt',\n",
       " 'nmenu disappears ncan rename file nmoving file sometime fails without cited reason',\n",
       " 'keep asking already said',\n",
       " 'second use background update feature io rather awkward location based method',\n",
       " 'wont even let change tab crash',\n",
       " 'ledmetallicadc updating logged every time try log crash immediately',\n",
       " 'drop box service rather annoying seems made old people made jump collaborating real time cloud',\n",
       " 'following apple lead crappy dull uninspired look',\n",
       " 'ever since io update dropbox worked constantly crash run extremely slow problem camera uploading',\n",
       " 'movie separated video like photo app',\n",
       " 'upload photo camera roll one time instead entire camera roll',\n",
       " 'please change',\n",
       " 'even set different box try fix thinking original box problem',\n",
       " 'anything',\n",
       " 'rugg flat open new ipad air',\n",
       " 'happened',\n",
       " 'update still rename thing',\n",
       " 'never added anything favorite',\n",
       " 'johninthislife drop support earlier io',\n",
       " 'backward compatibility io',\n",
       " 'think huge mistake',\n",
       " 'dropbox user year unfortunately must look another solution unless io version made available',\n",
       " 'app need support older o version',\n",
       " 'instead multiple paper notebook little note everywhere everything need remember reference go evernote',\n",
       " 'mind need evernote actually function today creative thinking creature unburden u voluminous mundane informs thinking',\n",
       " 'still function yet available mobile platform detract unequivocal rating',\n",
       " 'ready leave evernote would often crash lose thought also skeumorphic design painful look',\n",
       " 'never crash much simpler old version',\n",
       " 'high praise day app need well',\n",
       " 'update downloads nook say open download',\n",
       " 'app really need proper todo list function completed competed list',\n",
       " 'use keep track many item company great providing support update software often',\n",
       " 'please stop enhancement',\n",
       " 'wonderful app almost take manual figure use',\n",
       " 'crash le often still',\n",
       " 'n nsecond need way export multiple note word note edited compiled article paper publishing',\n",
       " 'vote confidence great versatile app around long need',\n",
       " 'crash occasionally text formatting bad',\n",
       " 'problem obvious wish fixed',\n",
       " 'latest update crash constantly',\n",
       " 'know one best apps available platform',\n",
       " 'single app replaced gtd apps note apps outliners presentation apps file sharing sync available everywhere need',\n",
       " 'great stuff available one place',\n",
       " 'reason star feature available across platform',\n",
       " 'app seemingly support cut paste io upgrade',\n",
       " 'n ni give star evernote really need give feature parity desktop version',\n",
       " 'used allow adding multiple tag',\n",
       " 'clip thought medium software recall able',\n",
       " 'well worth download purchase subscription learn maximize',\n",
       " 'ever since evernote upgraded io style poorly designed bloated app constantly crash',\n",
       " 'said evernote made massive impact life term productivity organization',\n",
       " 'every time download app need wait downloads offline notebook',\n",
       " 'seemed cool take many note thought',\n",
       " 'n nnow imagine invoice reference photo old magazine newspaper article kid school award receipt every recipe manual dishwasher color paint living room business card guy installed flooring etc n nwhether like need acquire skill information management',\n",
       " 'please take marketplace announcement ad though',\n",
       " 'search within specific notebook without typing code time consuming even figure',\n",
       " 'list search result show line found text see quickly looking without open',\n",
       " 'n nwish could create table since use mostly trap info reference',\n",
       " 'thing would nice en could maybe getting spoiled',\n",
       " 'notepad solution use business',\n",
       " 'whether want organize butterfly collection organize dissertation evernote help',\n",
       " 'dec upgrade still crash',\n",
       " 'become something rely crash iphone',\n",
       " 'tried opening app store let',\n",
       " 'app alone first one recommend family member friend new io device',\n",
       " 'easy search information need',\n",
       " 'sure wish better app evernote feature set many bug feature limitation',\n",
       " 'also wish way view note flipboard display alert random note',\n",
       " 'need note taking apps store note',\n",
       " 'every time something come mind simply take draft evernote tag idea',\n",
       " 'crash constantly',\n",
       " 'update note pc take forever show sync phone sometimes even log back show',\n",
       " 'program updated io changed look completely stability',\n",
       " 'crash every time within minute using',\n",
       " 'please make stable possible bring back old ui',\n",
       " 'would nice word counter feature though',\n",
       " 'looking app keep information picture web link quote recipe etc ultimate app look',\n",
       " 'blurring right side mean read really see area sidebar open anyway',\n",
       " 'currently cannot attach photo without crashing may find replacement soon',\n",
       " 'installed new ipad glad much invested abandoning font size issue',\n",
       " 'font smaller app use way control short using evernote web browser entirely defeat purpose',\n",
       " 'problem app ptcgkm great app using many year',\n",
       " 'tried fixing contacting support made problem worse',\n",
       " 'n ni recommend evernote everyone meet',\n",
       " 'since new update app crash lot especially try take photo app',\n",
       " 'start crashing',\n",
       " 'since io crash freeze website least week',\n",
       " 'way continue go itunes delete whole app reinstall',\n",
       " 'love ease apps integrate evernote',\n",
       " 'constantly report failure synch freeze momentarily action crash thee search function sometimes fails find key word',\n",
       " 'note problem may related incompatibility ipad io',\n",
       " 'problem experienced severe others reporting',\n",
       " 'still working en also stand looking possible alternative',\n",
       " 'yodaman sure evernote itunes issue found app two others upgradeable yet apps problem',\n",
       " 'time evernote take good hard look software start pulling feature',\n",
       " 'still crash lot capturing attaching photo note',\n",
       " 'app ok need get machine place brain dump',\n",
       " 'time sync error occurs error report transmission fails well',\n",
       " 'would use exclusively spreadsheet editing capability',\n",
       " 'five update one previous broke whole tribe u took week get fix see',\n",
       " 'thing get gate',\n",
       " 'wish list item would url scheme passing information app opening search elsewhere something launch center pro could use',\n",
       " 'n n io redesign nprops evernote team tweaking look app io like many others',\n",
       " 'update rating accordingly',\n",
       " 'tech support tried help premium user none came right said wrong something like sir experiencing million others experiencing',\n",
       " 'created unreliable app',\n",
       " 'happened',\n",
       " 'use notebook onenote',\n",
       " 'guy know think outside box let note taking app evolve immerse life business',\n",
       " 'n nhighly recommended note taking app',\n",
       " 'already possible rearrange board pin single board',\n",
       " 'app provides opportunity glance photo photo link information',\n",
       " 'pinterest go resource whenever need idea inspiration nearly anything life',\n",
       " 'problem like giant vortex look hour passed',\n",
       " 'longer cut tree pin',\n",
       " 'easiest way use pinterest spend hour site',\n",
       " 'frustrating middle adding important ingredient',\n",
       " 'nbut able rearrange board',\n",
       " 'work well crash sometimes good',\n",
       " 'app made life much easier',\n",
       " 'app literally everyday',\n",
       " 'powerful seeing goal set year attract need make goal reality',\n",
       " 'love look ion vastly different category find anything think',\n",
       " 'recommend improvement able rearrange pin board app',\n",
       " 'uninstalled app ipad always crash',\n",
       " 'enjoying seeing many folk following sometimes adding photo take find outside pinterest',\n",
       " 'always find need great new idea',\n",
       " 'create type board want pretty much everything else customizable',\n",
       " 'needed happen',\n",
       " 'sure managed life without pinterest app matter go need little inspiration',\n",
       " 'wish crash could go back instead starting',\n",
       " 'look expected',\n",
       " 'arrow back using browser take way back beginning scrolling',\n",
       " 'learned many thing pinterest pin enjoying pinning item',\n",
       " 'totally recommend app',\n",
       " 'problem crashing phone',\n",
       " 'fun way kill time waiting appointment sleep feeling lazy bone',\n",
       " 'love app get recipe idea ton diy idea',\n",
       " 'app used major freezing problem',\n",
       " 'create board refer back also',\n",
       " 'nit still need improvement functionality level allowing bigger number secret board flexibility search pin pinner board flexibility display one pin board board followed',\n",
       " 'recommend often',\n",
       " 'spend hour looking getting great idea',\n",
       " 'think could better able private message someone though could block person messaging needed',\n",
       " 'also think could better pin could deleted group board like example inappropriate want board also need follow person back added group board',\n",
       " 'please fix love pinterest way much use',\n",
       " 'stop pinning',\n",
       " 'hope jinx issue app',\n",
       " 'love change pinterest added ever problem app great addressing',\n",
       " 'well review',\n",
       " 'problem',\n",
       " 'potential waiting',\n",
       " 'love app use lot need pas time',\n",
       " 'like n rarely crash',\n",
       " 'please fix fix',\n",
       " 'recommend app friend continue use faithfully',\n",
       " 'please add back top page button',\n",
       " 'love pinterest app crash almost every time use',\n",
       " 'love source photo reference need',\n",
       " 'nice app save pic grab pic others share comment',\n",
       " 'app hard see clearly phone maybe need get ipad',\n",
       " 'never problem',\n",
       " 'suggestion fix glitch boot shuts ipad occasion create main topic board house board subtopics e g main topic decorating board would kitchen bedroom etc many board would make thing organized easier find',\n",
       " 'understand fix something broken really break',\n",
       " 'wish limitation search know thousand pin show couple hundred',\n",
       " 'upgrade made great improvement',\n",
       " 'issue iphone',\n",
       " 'many great idea app',\n",
       " 'issue app lack ability print pin within app open safari many extra step please add print button',\n",
       " 'love create group board progressively invite member',\n",
       " 'mobile app slow crash lot love struggling',\n",
       " 'try add instruction replay first join',\n",
       " 'need ask',\n",
       " 'problem mean take peek amp know discover lost hour',\n",
       " 'best place keep idea favorite thing plan one place better yet share',\n",
       " 'easy use great way kill time doctor office',\n",
       " 'love fantasy art picture need people like u easy phone select action picture',\n",
       " 'problem app',\n",
       " 'app run smoothly rarely issue anymore',\n",
       " 'brittany lauren please please please give u update able search pin board',\n",
       " 'still crashing issue occasion pin homepage refuse load',\n",
       " 'app crash sometimes frustrating',\n",
       " 'learn lot folk post lack reliable search function amp need add setting board person follow',\n",
       " 'overall fun amp provides lot good info',\n",
       " 'bad thing get without wifi',\n",
       " 'minus one star occasional crash app wish better way keep people pinning link spammy website',\n",
       " 'many recipe idea pin use resource later',\n",
       " 'n npinterest crashing ipad seems better since update',\n",
       " 'like update change everything around seem getting used navigate',\n",
       " 'careful open hour come air',\n",
       " 'please take new update recommends sending certain pin people may like facebook friend list',\n",
       " 'good view already pinned told pin something may forgotten already pinned board',\n",
       " 'fantastic app recommend entirely crash sometimes',\n",
       " 'make anything',\n",
       " 'use pinterest lot app constantly crashing go open pin',\n",
       " 'everything need right',\n",
       " 'wish way organize pin within board like sub board something',\n",
       " 'easy use bug much fun',\n",
       " 'enjoy using pinterest ipad iphone feature like ability change cover image board missing',\n",
       " 'love pintrest app version laid well crash time sometimes take several try reach web page linked pin',\n",
       " 'update bug fewer',\n",
       " 'get fix',\n",
       " 'never problem never crash',\n",
       " 'idea able use share tremendous help family friend co worker',\n",
       " 'ever update allows u move multiple pin one board time',\n",
       " 'pintrest provides easy way find store idea',\n",
       " 'love create board secret board send pinner like something',\n",
       " 'problem',\n",
       " 'update take longer board load sometimes app crash',\n",
       " 'problem pinterest ever',\n",
       " 'crash',\n",
       " 'pinterest help find recipe make delicious dish give amazing gift idea room decor',\n",
       " 'stuck',\n",
       " 'personal board alpha order way come pin',\n",
       " 'change cover photo board anymore',\n",
       " 'problem randomly close app',\n",
       " 'always give idea use elaborate',\n",
       " 'like visually learn read live app fit personal functionality need order platform intuitive seamless process regardless task attempting perform',\n",
       " 'wish could still pin without opening',\n",
       " 'wish type messenger available',\n",
       " 'would nice able respond pin sent u message',\n",
       " 'like new update still crash every often',\n",
       " 'sure way turn figured',\n",
       " 'wish way take recently viewed category',\n",
       " 'hit get togethers ever need fix clean something find pinterest',\n",
       " 'fling version crash repeatedly completely shuts ipad',\n",
       " 'need pinterest anonymous',\n",
       " 'matter need pinterest',\n",
       " 'prior last update made improvement update great',\n",
       " 'last update ipad want crash sometimes anywhere like',\n",
       " 'know would great able board noticed people follow figure',\n",
       " 'could solve issue would awesome',\n",
       " 'improvement suggest add ability zoom picture pinned',\n",
       " 'iphone loading issue saving image would freeze continue load hour exited app',\n",
       " 'love app really liked added think already posted',\n",
       " 'time need idea come',\n",
       " 'pretty much find everything need app simple use',\n",
       " 'noverall recommend',\n",
       " 'believe missing great idea long time',\n",
       " 'many great idea funny thing',\n",
       " 'new contact made app great information gained excited able pin day long',\n",
       " 'wish app would allow view portrait landscape format',\n",
       " 'problem able stop',\n",
       " 'always find project wait try gift make family',\n",
       " 'great app nothing else like give awesome idea thing afford put head debt',\n",
       " 'access thing ingredient recipe name glue said use much vinegar need buy clean house',\n",
       " 'stop',\n",
       " 'problem spend much time',\n",
       " 'complaint share tried recipe three ingredient followed recipe completely failed three time',\n",
       " 'infrequently problem convenient',\n",
       " 'honestly sure like latest update either adjust update',\n",
       " 'people come great idea',\n",
       " 'unfortunately take long wipe posted bad link',\n",
       " 'help plan meal travel make dream come true',\n",
       " 'constantly crash viewed ipad',\n",
       " 'work awesome phone crash repin quickly back back',\n",
       " 'work fine issue',\n",
       " 'app need update',\n",
       " 'listen anybody gave one star mad get follower',\n",
       " 'way think categorize first comment select category pinned must several step process editing',\n",
       " 'help keep track pin make easy find need',\n",
       " 'try pin facebook half time tell need log first',\n",
       " 'sometimes skip email item',\n",
       " 'nvr big facebook fan bc gave much personal without personality pinterest let real self shine whether intended ni wish update would fix crashing ipad many window open left open long',\n",
       " 'problem',\n",
       " 'love cook many apps bookmark recipe search pinterest often first last place need search',\n",
       " 'definitely recommend anyone',\n",
       " 'luv inspiration others nconnection never failed',\n",
       " 'person said would never pinterest stop',\n",
       " 'love pinterest amp love ease app provides',\n",
       " 'recent update made app much better',\n",
       " 'first signed idea actually thought waste time understand absolutely love stop pinning',\n",
       " 'never problem app',\n",
       " 'bug found expand pin try scroll related pub area sometimes load exit pin try',\n",
       " 'god bless person people created',\n",
       " 'amazing app everything need',\n",
       " 'sometimes give waiting shut',\n",
       " 'ni made delicious recipe even used tip dog',\n",
       " 'day thing app app make day',\n",
       " 'highly recommend app',\n",
       " 'find everything need ever imagine',\n",
       " 'bit glitchy sometimes may need uninstall reinstall otherwise go',\n",
       " 'also pin zulily know pinterest zulily',\n",
       " 'sometimes get overwhelmed much available lose track time',\n",
       " 'often first place go figure make dinner',\n",
       " 'great app wish glitch occasion',\n",
       " 'many great idea shared throughout app',\n",
       " 'pinterest find anything need',\n",
       " 'get better time invest',\n",
       " 'plan event without',\n",
       " 'go diy site creative juice failed',\n",
       " 'recommend everyone',\n",
       " 'find everything need recipe decorating',\n",
       " 'longer need magazine get idea decorating hairstyle clothing organizing many thing',\n",
       " 'seriously know know function without pinterest',\n",
       " 'teacher anything find app',\n",
       " ...]"
      ]
     },
     "execution_count": 19,
     "metadata": {},
     "output_type": "execute_result"
    }
   ],
   "source": [
    "corpus"
   ]
  },
  {
   "attachments": {},
   "cell_type": "markdown",
   "id": "513b2c53",
   "metadata": {},
   "source": [
    "### Applying TF-IDF Vectorizer to create reviews embeddings"
   ]
  },
  {
   "cell_type": "code",
   "execution_count": 20,
   "id": "4e215a6c",
   "metadata": {},
   "outputs": [],
   "source": [
    "from sklearn.feature_extraction.text import TfidfVectorizer\n",
    "cv = TfidfVectorizer()\n",
    "X = cv.fit_transform(corpus).toarray()"
   ]
  },
  {
   "cell_type": "code",
   "execution_count": 21,
   "id": "35821d57",
   "metadata": {},
   "outputs": [
    {
     "name": "stdout",
     "output_type": "stream",
     "text": [
      "[[0. 0. 0. ... 0. 0. 0.]\n",
      " [0. 0. 0. ... 0. 0. 0.]\n",
      " [0. 0. 0. ... 0. 0. 0.]\n",
      " ...\n",
      " [0. 0. 0. ... 0. 0. 0.]\n",
      " [0. 0. 0. ... 0. 0. 0.]\n",
      " [0. 0. 0. ... 0. 0. 0.]]\n"
     ]
    }
   ],
   "source": [
    "print(X)"
   ]
  },
  {
   "cell_type": "markdown",
   "id": "1ad0a6e8",
   "metadata": {},
   "source": [
    "## Train - Test Split"
   ]
  },
  {
   "cell_type": "code",
   "execution_count": 22,
   "id": "8be0f4e6",
   "metadata": {},
   "outputs": [
    {
     "name": "stdout",
     "output_type": "stream",
     "text": [
      "(973, 1806)\n",
      "(973, 1)\n",
      "(417, 1806)\n",
      "(417, 1)\n"
     ]
    }
   ],
   "source": [
    "trainX, testX, trainy, testy = train_test_split(X, y, test_size=0.3, random_state=2)\n",
    "print(trainX.shape)\n",
    "print(trainy.shape)\n",
    "print(testX.shape)\n",
    "print(testy.shape)"
   ]
  },
  {
   "attachments": {},
   "cell_type": "markdown",
   "id": "8a6a6bf1",
   "metadata": {},
   "source": [
    "## Applying Machine Learning Algorithms"
   ]
  },
  {
   "cell_type": "markdown",
   "id": "fa709c5c",
   "metadata": {},
   "source": [
    "### Logistic Regression"
   ]
  },
  {
   "cell_type": "code",
   "execution_count": 23,
   "id": "3f921188",
   "metadata": {},
   "outputs": [],
   "source": [
    "lr = LogisticRegression(solver='liblinear',random_state=2)\n",
    "lr.fit(trainX,trainy.values.ravel())\n",
    "y_pred = lr.predict(testX)"
   ]
  },
  {
   "cell_type": "code",
   "execution_count": 24,
   "id": "44e1dcdc",
   "metadata": {},
   "outputs": [
    {
     "name": "stdout",
     "output_type": "stream",
     "text": [
      "Accuracy of Decision Tree: 66.42685851318944 %\n"
     ]
    }
   ],
   "source": [
    "accuracy = lr.score(testX, testy)\n",
    "print(\"Accuracy of Decision Tree:\",accuracy*100,\"%\")"
   ]
  },
  {
   "cell_type": "markdown",
   "id": "f4a27671",
   "metadata": {},
   "source": [
    "### Decision Tree Classifier"
   ]
  },
  {
   "cell_type": "code",
   "execution_count": 25,
   "id": "cb4f9947",
   "metadata": {},
   "outputs": [],
   "source": [
    "DT = DecisionTreeClassifier(max_depth=115)\n",
    "DT.fit(trainX,trainy)\n",
    "y_pred = DT.predict(testX)"
   ]
  },
  {
   "cell_type": "code",
   "execution_count": 26,
   "id": "fdffda2f",
   "metadata": {},
   "outputs": [
    {
     "name": "stdout",
     "output_type": "stream",
     "text": [
      "Accuracy of Decision Tree: 67.86570743405275 %\n"
     ]
    }
   ],
   "source": [
    "accuracy = DT.score(testX, testy)\n",
    "print(\"Accuracy of Decision Tree:\",accuracy*100,\"%\")"
   ]
  },
  {
   "cell_type": "code",
   "execution_count": 27,
   "id": "aeffd2b6",
   "metadata": {},
   "outputs": [
    {
     "data": {
      "text/html": [
       "<div>\n",
       "<style scoped>\n",
       "    .dataframe tbody tr th:only-of-type {\n",
       "        vertical-align: middle;\n",
       "    }\n",
       "\n",
       "    .dataframe tbody tr th {\n",
       "        vertical-align: top;\n",
       "    }\n",
       "\n",
       "    .dataframe thead th {\n",
       "        text-align: right;\n",
       "    }\n",
       "</style>\n",
       "<table border=\"1\" class=\"dataframe\">\n",
       "  <thead>\n",
       "    <tr style=\"text-align: right;\">\n",
       "      <th></th>\n",
       "      <th>Actual</th>\n",
       "      <th>Predicted</th>\n",
       "    </tr>\n",
       "  </thead>\n",
       "  <tbody>\n",
       "    <tr>\n",
       "      <th>0</th>\n",
       "      <td>1</td>\n",
       "      <td>1</td>\n",
       "    </tr>\n",
       "    <tr>\n",
       "      <th>1</th>\n",
       "      <td>1</td>\n",
       "      <td>1</td>\n",
       "    </tr>\n",
       "    <tr>\n",
       "      <th>2</th>\n",
       "      <td>0</td>\n",
       "      <td>1</td>\n",
       "    </tr>\n",
       "    <tr>\n",
       "      <th>3</th>\n",
       "      <td>3</td>\n",
       "      <td>3</td>\n",
       "    </tr>\n",
       "    <tr>\n",
       "      <th>4</th>\n",
       "      <td>2</td>\n",
       "      <td>2</td>\n",
       "    </tr>\n",
       "    <tr>\n",
       "      <th>...</th>\n",
       "      <td>...</td>\n",
       "      <td>...</td>\n",
       "    </tr>\n",
       "    <tr>\n",
       "      <th>412</th>\n",
       "      <td>3</td>\n",
       "      <td>1</td>\n",
       "    </tr>\n",
       "    <tr>\n",
       "      <th>413</th>\n",
       "      <td>0</td>\n",
       "      <td>1</td>\n",
       "    </tr>\n",
       "    <tr>\n",
       "      <th>414</th>\n",
       "      <td>1</td>\n",
       "      <td>1</td>\n",
       "    </tr>\n",
       "    <tr>\n",
       "      <th>415</th>\n",
       "      <td>0</td>\n",
       "      <td>3</td>\n",
       "    </tr>\n",
       "    <tr>\n",
       "      <th>416</th>\n",
       "      <td>1</td>\n",
       "      <td>1</td>\n",
       "    </tr>\n",
       "  </tbody>\n",
       "</table>\n",
       "<p>417 rows × 2 columns</p>\n",
       "</div>"
      ],
      "text/plain": [
       "     Actual  Predicted\n",
       "0         1          1\n",
       "1         1          1\n",
       "2         0          1\n",
       "3         3          3\n",
       "4         2          2\n",
       "..      ...        ...\n",
       "412       3          1\n",
       "413       0          1\n",
       "414       1          1\n",
       "415       0          3\n",
       "416       1          1\n",
       "\n",
       "[417 rows x 2 columns]"
      ]
     },
     "execution_count": 27,
     "metadata": {},
     "output_type": "execute_result"
    }
   ],
   "source": [
    "pd.DataFrame(np.c_[testy , y_pred] , columns=[\"Actual\" , \"Predicted\"])"
   ]
  },
  {
   "cell_type": "markdown",
   "id": "ce461229",
   "metadata": {},
   "source": [
    "### Random Forest Classifier"
   ]
  },
  {
   "cell_type": "code",
   "execution_count": 28,
   "id": "6eaca891",
   "metadata": {},
   "outputs": [],
   "source": [
    "rf = RandomForestClassifier(max_depth=30,n_estimators=250)\n",
    "rf.fit(trainX,trainy.values.ravel())\n",
    "y_pred = rf.predict(testX)"
   ]
  },
  {
   "cell_type": "code",
   "execution_count": 29,
   "id": "55bc3b82",
   "metadata": {},
   "outputs": [
    {
     "name": "stdout",
     "output_type": "stream",
     "text": [
      "Accuracy of Decision Tree: 66.66666666666666 %\n"
     ]
    }
   ],
   "source": [
    "accuracy = rf.score(testX, testy)\n",
    "print(\"Accuracy of Decision Tree:\",accuracy*100,\"%\")"
   ]
  },
  {
   "cell_type": "code",
   "execution_count": 30,
   "id": "4c201ec9",
   "metadata": {},
   "outputs": [
    {
     "name": "stdout",
     "output_type": "stream",
     "text": [
      "Confusion Matrix:\n",
      "[[ 15  31   0   8]\n",
      " [  5 167   0  16]\n",
      " [  0  31   4   1]\n",
      " [  1  46   0  92]]\n",
      "------------------------------------\n",
      "Accuracy of Random Forest: 66.66666666666666 %\n",
      "------------------------------------\n",
      "Specificity: 0.32608695652173914\n",
      "------------------------------------\n",
      "Sensitivity: 0.9709302325581395\n",
      "------------------------------------\n",
      "Miss Rate (False Positive Rate): 0.6739130434782609\n",
      "------------------------------------\n",
      "Miss Rate (False Negative Rate): 0.029069767441860465\n"
     ]
    }
   ],
   "source": [
    "from sklearn.metrics import confusion_matrix\n",
    "cm = confusion_matrix(testy,y_pred)\n",
    "print(\"Confusion Matrix:\")\n",
    "print(cm)\n",
    "print('------------------------------------')\n",
    "\n",
    "\n",
    "accuracy = rf.score(testX, testy)\n",
    "print(\"Accuracy of Random Forest:\",accuracy*100,\"%\")\n",
    "print('------------------------------------')\n",
    "\n",
    "\n",
    "\n",
    "specificity = cm[0,0]/(cm[0,0]+cm[0,1])\n",
    "print(\"Specificity:\", specificity)\n",
    "print('------------------------------------')\n",
    "\n",
    "sensitivity = cm[1,1]/(cm[1,1]+cm[1,0])\n",
    "print(\"Sensitivity:\", sensitivity)\n",
    "\n",
    "print('------------------------------------')\n",
    "miss_rate = cm[0,1]/(cm[0,1]+cm[0,0])\n",
    "print(\"Miss Rate (False Positive Rate):\", miss_rate)\n",
    "\n",
    "print('------------------------------------')\n",
    "miss_rate_FNR = cm[1,0]/(cm[1,0]+cm[1,1])\n",
    "print(\"Miss Rate (False Negative Rate):\", miss_rate_FNR)"
   ]
  },
  {
   "cell_type": "code",
   "execution_count": 31,
   "id": "c0aec6df",
   "metadata": {},
   "outputs": [
    {
     "name": "stdout",
     "output_type": "stream",
     "text": [
      "              precision    recall  f1-score   support\n",
      "\n",
      "           0       0.71      0.28      0.40        54\n",
      "           1       0.61      0.89      0.72       188\n",
      "           2       1.00      0.11      0.20        36\n",
      "           3       0.79      0.66      0.72       139\n",
      "\n",
      "    accuracy                           0.67       417\n",
      "   macro avg       0.78      0.48      0.51       417\n",
      "weighted avg       0.71      0.67      0.63       417\n",
      "\n"
     ]
    }
   ],
   "source": [
    "#Note:  Classification Report and Roc Curve both codes are combine into one cell\n",
    "from sklearn.metrics import classification_report\n",
    "print(classification_report(testy,y_pred))"
   ]
  },
  {
   "cell_type": "markdown",
   "id": "d9c3ed04",
   "metadata": {},
   "source": [
    "### Naive Bayes Classifier"
   ]
  },
  {
   "cell_type": "code",
   "execution_count": 32,
   "id": "ef4cffff",
   "metadata": {},
   "outputs": [],
   "source": [
    "NB = MultinomialNB(alpha=4)\n",
    "NB.fit(trainX,trainy.values.ravel())\n",
    "y_pred = NB.predict(testX)"
   ]
  },
  {
   "cell_type": "code",
   "execution_count": 33,
   "id": "c3090227",
   "metadata": {},
   "outputs": [
    {
     "name": "stdout",
     "output_type": "stream",
     "text": [
      "Accuracy of Naive Bayes: 60.91127098321343 %\n"
     ]
    }
   ],
   "source": [
    "accuracy = NB.score(testX, testy)\n",
    "print(\"Accuracy of Naive Bayes:\",accuracy*100,\"%\")"
   ]
  },
  {
   "cell_type": "markdown",
   "id": "d6f9523d",
   "metadata": {},
   "source": [
    "### KNN CLassifier"
   ]
  },
  {
   "cell_type": "code",
   "execution_count": 34,
   "id": "6d641ee2",
   "metadata": {},
   "outputs": [],
   "source": [
    "knn = KNeighborsClassifier(n_neighbors=25)\n",
    "knn.fit(trainX,trainy.values.ravel())\n",
    "y_pred = knn.predict(testX)"
   ]
  },
  {
   "cell_type": "code",
   "execution_count": 35,
   "id": "4514f93a",
   "metadata": {},
   "outputs": [
    {
     "name": "stdout",
     "output_type": "stream",
     "text": [
      "Accuracy of Naive Bayes: 64.02877697841727 %\n"
     ]
    }
   ],
   "source": [
    "accuracy = knn.score(testX, testy)\n",
    "print(\"Accuracy of Naive Bayes:\",accuracy*100,\"%\")"
   ]
  },
  {
   "cell_type": "code",
   "execution_count": 36,
   "id": "ad9550b3",
   "metadata": {},
   "outputs": [],
   "source": [
    "gb = GradientBoostingClassifier(max_depth=6,n_estimators=450)\n",
    "gb.fit(trainX,trainy.values.ravel())\n",
    "y_pred = gb.predict(testX)"
   ]
  },
  {
   "cell_type": "code",
   "execution_count": 37,
   "id": "6a34a4a4",
   "metadata": {},
   "outputs": [
    {
     "name": "stdout",
     "output_type": "stream",
     "text": [
      "Accuracy of Naive Bayes: 64.74820143884892 %\n"
     ]
    }
   ],
   "source": [
    "accuracy = gb.score(testX, testy)\n",
    "print(\"Accuracy of Naive Bayes:\",accuracy*100,\"%\")"
   ]
  },
  {
   "cell_type": "markdown",
   "id": "fdca5f4a",
   "metadata": {},
   "source": [
    "### Support Vector Machine"
   ]
  },
  {
   "cell_type": "code",
   "execution_count": 38,
   "id": "86fa10c2",
   "metadata": {},
   "outputs": [],
   "source": [
    "from sklearn.svm import LinearSVC\n",
    "svm = LinearSVC()\n",
    "svm.fit(trainX,trainy.values.ravel())\n",
    "y_pred = svm.predict(testX)"
   ]
  },
  {
   "cell_type": "code",
   "execution_count": 39,
   "id": "49b3b964",
   "metadata": {},
   "outputs": [
    {
     "name": "stdout",
     "output_type": "stream",
     "text": [
      "Accuracy of SVM: 64.02877697841727 %\n"
     ]
    }
   ],
   "source": [
    "accuracy = svm.score(testX, testy)\n",
    "print(\"Accuracy of SVM:\",accuracy*100,\"%\")"
   ]
  },
  {
   "cell_type": "markdown",
   "id": "69ad7abd",
   "metadata": {},
   "source": [
    "### SGD CLassifier"
   ]
  },
  {
   "cell_type": "code",
   "execution_count": 40,
   "id": "9fa558b9",
   "metadata": {},
   "outputs": [],
   "source": [
    "from sklearn.linear_model import SGDClassifier\n",
    "sgd = SGDClassifier(loss='hinge', penalty='l2',alpha=1e-3, random_state=42, max_iter=5, tol=None)\n",
    "sgd.fit(trainX,trainy.values.ravel())\n",
    "y_pred = sgd.predict(testX)"
   ]
  },
  {
   "cell_type": "code",
   "execution_count": 41,
   "id": "a857fa43",
   "metadata": {},
   "outputs": [
    {
     "name": "stdout",
     "output_type": "stream",
     "text": [
      "Accuracy of SVM: 66.66666666666666 %\n"
     ]
    }
   ],
   "source": [
    "accuracy = sgd.score(testX, testy)\n",
    "print(\"Accuracy of SVM:\",accuracy*100,\"%\")"
   ]
  },
  {
   "cell_type": "markdown",
   "id": "034567ba",
   "metadata": {},
   "source": [
    "## Testing Model "
   ]
  },
  {
   "cell_type": "code",
   "execution_count": 42,
   "id": "b2595202",
   "metadata": {},
   "outputs": [],
   "source": [
    "import pickle\n",
    "pickle.dump(cv , open(\"tfidfvectorizer.pkl\" , \"wb\"))\n",
    "pickle.dump(DT , open(\"Customer_Review_Classification.pkl\" , \"wb\")) "
   ]
  },
  {
   "cell_type": "code",
   "execution_count": 43,
   "id": "7d748e75",
   "metadata": {},
   "outputs": [],
   "source": [
    "save_cv = pickle.load(open(\"tfidfvectorizer.pkl\",'rb'))\n",
    "model = pickle.load(open('Customer_Review_Classification.pkl','rb'))"
   ]
  },
  {
   "cell_type": "code",
   "execution_count": 44,
   "id": "943f0f84",
   "metadata": {},
   "outputs": [],
   "source": [
    "def test_model(sentence):\n",
    "    sen = save_cv.transform([sentence]).toarray()\n",
    "    res = model.predict(sen)[0]\n",
    "    if res == 0:\n",
    "        return \"Feature Request\"\n",
    "    elif res == 1:\n",
    "        return \"Information giving\"\n",
    "    elif res == 2:\n",
    "        return \"Problem Seeking\"\n",
    "    else:\n",
    "        return \"Information Seeking\"\n",
    "    \n",
    "    "
   ]
  },
  {
   "attachments": {},
   "cell_type": "markdown",
   "id": "0583e1c1",
   "metadata": {},
   "source": [
    "Entering a Random review text to check the result of the model"
   ]
  },
  {
   "cell_type": "code",
   "execution_count": 45,
   "id": "0fd4f876",
   "metadata": {},
   "outputs": [
    {
     "name": "stdout",
     "output_type": "stream",
     "text": [
      "Information giving\n"
     ]
    }
   ],
   "source": [
    "sen = 'Make it like better with a giant pig bigger '\n",
    "res = test_model(sen)\n",
    "print(res)"
   ]
  },
  {
   "cell_type": "code",
   "execution_count": 46,
   "id": "82b21a2e",
   "metadata": {},
   "outputs": [
    {
     "name": "stdout",
     "output_type": "stream",
     "text": [
      "Problem Seeking\n"
     ]
    }
   ],
   "source": [
    "sen = 'Add this feature'\n",
    "res = test_model(sen)\n",
    "print(res)"
   ]
  },
  {
   "attachments": {},
   "cell_type": "markdown",
   "id": "ff010418",
   "metadata": {},
   "source": [
    "## Sentiment Analysis Using VADER Lexicon"
   ]
  },
  {
   "attachments": {},
   "cell_type": "markdown",
   "id": "b2e5210b",
   "metadata": {},
   "source": [
    "Sentiment analysis is a natural language processing technique that aims to determine the sentiment of a piece of text, such as reviews, or news article. It involves analyzing the text and identifying its emotional tone, such as positive, negative, or neutral. Sentiment analysis can be performed using various techniques, including machine learning algorithms and rule-based approaches."
   ]
  },
  {
   "attachments": {},
   "cell_type": "markdown",
   "id": "fadaca2f",
   "metadata": {},
   "source": [
    "VADER (Valence Aware Dictionary and sEntiment Reasoner) is a rule-based sentiment analysis tool that is specifically designed for social media texts. It uses a lexicon of words and phrases that have been rated for their valence (positive, negative, or neutral) and intensity. Here are some applications of sentiment analysis using VADER:"
   ]
  },
  {
   "cell_type": "code",
   "execution_count": 47,
   "id": "02a89469",
   "metadata": {},
   "outputs": [
    {
     "name": "stdout",
     "output_type": "stream",
     "text": [
      "Requirement already satisfied: wordcloud in c:\\users\\muzammil\\appdata\\local\\programs\\python\\python39\\lib\\site-packages (1.8.2.2)\n",
      "Requirement already satisfied: numpy>=1.6.1 in c:\\users\\muzammil\\appdata\\local\\programs\\python\\python39\\lib\\site-packages (from wordcloud) (1.21.3)\n",
      "Requirement already satisfied: pillow in c:\\users\\muzammil\\appdata\\local\\programs\\python\\python39\\lib\\site-packages (from wordcloud) (9.1.0)\n",
      "Requirement already satisfied: matplotlib in c:\\users\\muzammil\\appdata\\local\\programs\\python\\python39\\lib\\site-packages (from wordcloud) (3.5.1)\n",
      "Requirement already satisfied: kiwisolver>=1.0.1 in c:\\users\\muzammil\\appdata\\local\\programs\\python\\python39\\lib\\site-packages (from matplotlib->wordcloud) (1.4.2)\n",
      "Requirement already satisfied: fonttools>=4.22.0 in c:\\users\\muzammil\\appdata\\local\\programs\\python\\python39\\lib\\site-packages (from matplotlib->wordcloud) (4.33.3)\n",
      "Requirement already satisfied: packaging>=20.0 in c:\\users\\muzammil\\appdata\\local\\programs\\python\\python39\\lib\\site-packages (from matplotlib->wordcloud) (21.3)\n",
      "Requirement already satisfied: pyparsing>=2.2.1 in c:\\users\\muzammil\\appdata\\local\\programs\\python\\python39\\lib\\site-packages (from matplotlib->wordcloud) (3.0.8)\n",
      "Requirement already satisfied: cycler>=0.10 in c:\\users\\muzammil\\appdata\\local\\programs\\python\\python39\\lib\\site-packages (from matplotlib->wordcloud) (0.11.0)\n",
      "Requirement already satisfied: python-dateutil>=2.7 in c:\\users\\muzammil\\appdata\\local\\programs\\python\\python39\\lib\\site-packages (from matplotlib->wordcloud) (2.8.2)\n",
      "Requirement already satisfied: six>=1.5 in c:\\users\\muzammil\\appdata\\local\\programs\\python\\python39\\lib\\site-packages (from python-dateutil>=2.7->matplotlib->wordcloud) (1.16.0)\n",
      "Note: you may need to restart the kernel to use updated packages.\n"
     ]
    }
   ],
   "source": [
    "#pip install wordcloud"
   ]
  },
  {
   "cell_type": "code",
   "execution_count": 48,
   "id": "649bceb8",
   "metadata": {},
   "outputs": [
    {
     "data": {
      "text/html": [
       "<div>\n",
       "<style scoped>\n",
       "    .dataframe tbody tr th:only-of-type {\n",
       "        vertical-align: middle;\n",
       "    }\n",
       "\n",
       "    .dataframe tbody tr th {\n",
       "        vertical-align: top;\n",
       "    }\n",
       "\n",
       "    .dataframe thead th {\n",
       "        text-align: right;\n",
       "    }\n",
       "</style>\n",
       "<table border=\"1\" class=\"dataframe\">\n",
       "  <thead>\n",
       "    <tr style=\"text-align: right;\">\n",
       "      <th></th>\n",
       "      <th>review</th>\n",
       "      <th>class</th>\n",
       "    </tr>\n",
       "  </thead>\n",
       "  <tbody>\n",
       "    <tr>\n",
       "      <th>0</th>\n",
       "      <td>Make it like better with a giant pig bigger th...</td>\n",
       "      <td>0</td>\n",
       "    </tr>\n",
       "    <tr>\n",
       "      <th>1</th>\n",
       "      <td>These screens are small enough without crowdin...</td>\n",
       "      <td>1</td>\n",
       "    </tr>\n",
       "    <tr>\n",
       "      <th>2</th>\n",
       "      <td>Dear Rovio; If you absolutely must continue tr...</td>\n",
       "      <td>1</td>\n",
       "    </tr>\n",
       "    <tr>\n",
       "      <th>3</th>\n",
       "      <td>App crashes when new power up notice pops up.</td>\n",
       "      <td>3</td>\n",
       "    </tr>\n",
       "    <tr>\n",
       "      <th>4</th>\n",
       "      <td>It would be nice to have an update that didn  ...</td>\n",
       "      <td>1</td>\n",
       "    </tr>\n",
       "  </tbody>\n",
       "</table>\n",
       "</div>"
      ],
      "text/plain": [
       "                                              review  class\n",
       "0  Make it like better with a giant pig bigger th...      0\n",
       "1  These screens are small enough without crowdin...      1\n",
       "2  Dear Rovio; If you absolutely must continue tr...      1\n",
       "3      App crashes when new power up notice pops up.      3\n",
       "4  It would be nice to have an update that didn  ...      1"
      ]
     },
     "execution_count": 48,
     "metadata": {},
     "output_type": "execute_result"
    }
   ],
   "source": [
    "data.head()"
   ]
  },
  {
   "cell_type": "code",
   "execution_count": 49,
   "id": "cdbf294f",
   "metadata": {},
   "outputs": [
    {
     "name": "stderr",
     "output_type": "stream",
     "text": [
      "[nltk_data] Error loading SentimentIntensityAnalyzer: Package\n",
      "[nltk_data]     'SentimentIntensityAnalyzer' not found in index\n"
     ]
    },
    {
     "data": {
      "text/plain": [
       "False"
      ]
     },
     "execution_count": 49,
     "metadata": {},
     "output_type": "execute_result"
    }
   ],
   "source": [
    "#nltk.download('SentimentIntensityAnalyzer')"
   ]
  },
  {
   "cell_type": "code",
   "execution_count": 50,
   "id": "3e423d44",
   "metadata": {},
   "outputs": [
    {
     "name": "stderr",
     "output_type": "stream",
     "text": [
      "[nltk_data] Downloading package vader_lexicon to\n",
      "[nltk_data]     C:\\Users\\Muzammil\\AppData\\Roaming\\nltk_data...\n",
      "[nltk_data]   Package vader_lexicon is already up-to-date!\n"
     ]
    }
   ],
   "source": [
    "import nltk\n",
    "nltk.download('vader_lexicon')\n",
    "from nltk.sentiment.vader import SentimentIntensityAnalyzer\n",
    "\n",
    "sid = SentimentIntensityAnalyzer()\n",
    "sid = SentimentIntensityAnalyzer()\n",
    "data[\"sentiments\"] = data[\"review\"].apply(lambda x: sid.polarity_scores(x))\n",
    "data = pd.concat([data.drop(['sentiments'], axis=1), data['sentiments'].apply(pd.Series)], axis=1)"
   ]
  },
  {
   "cell_type": "code",
   "execution_count": 51,
   "id": "c20643c2",
   "metadata": {},
   "outputs": [
    {
     "data": {
      "text/html": [
       "<div>\n",
       "<style scoped>\n",
       "    .dataframe tbody tr th:only-of-type {\n",
       "        vertical-align: middle;\n",
       "    }\n",
       "\n",
       "    .dataframe tbody tr th {\n",
       "        vertical-align: top;\n",
       "    }\n",
       "\n",
       "    .dataframe thead th {\n",
       "        text-align: right;\n",
       "    }\n",
       "</style>\n",
       "<table border=\"1\" class=\"dataframe\">\n",
       "  <thead>\n",
       "    <tr style=\"text-align: right;\">\n",
       "      <th></th>\n",
       "      <th>review</th>\n",
       "      <th>class</th>\n",
       "      <th>neg</th>\n",
       "      <th>neu</th>\n",
       "      <th>pos</th>\n",
       "      <th>compound</th>\n",
       "    </tr>\n",
       "  </thead>\n",
       "  <tbody>\n",
       "    <tr>\n",
       "      <th>0</th>\n",
       "      <td>Make it like better with a giant pig bigger th...</td>\n",
       "      <td>0</td>\n",
       "      <td>0.000</td>\n",
       "      <td>0.625</td>\n",
       "      <td>0.375</td>\n",
       "      <td>0.6597</td>\n",
       "    </tr>\n",
       "    <tr>\n",
       "      <th>1</th>\n",
       "      <td>These screens are small enough without crowdin...</td>\n",
       "      <td>1</td>\n",
       "      <td>0.072</td>\n",
       "      <td>0.928</td>\n",
       "      <td>0.000</td>\n",
       "      <td>-0.3080</td>\n",
       "    </tr>\n",
       "    <tr>\n",
       "      <th>2</th>\n",
       "      <td>Dear Rovio; If you absolutely must continue tr...</td>\n",
       "      <td>1</td>\n",
       "      <td>0.000</td>\n",
       "      <td>0.919</td>\n",
       "      <td>0.081</td>\n",
       "      <td>0.6249</td>\n",
       "    </tr>\n",
       "    <tr>\n",
       "      <th>3</th>\n",
       "      <td>App crashes when new power up notice pops up.</td>\n",
       "      <td>3</td>\n",
       "      <td>0.000</td>\n",
       "      <td>1.000</td>\n",
       "      <td>0.000</td>\n",
       "      <td>0.0000</td>\n",
       "    </tr>\n",
       "    <tr>\n",
       "      <th>4</th>\n",
       "      <td>It would be nice to have an update that didn  ...</td>\n",
       "      <td>1</td>\n",
       "      <td>0.164</td>\n",
       "      <td>0.667</td>\n",
       "      <td>0.170</td>\n",
       "      <td>0.0258</td>\n",
       "    </tr>\n",
       "  </tbody>\n",
       "</table>\n",
       "</div>"
      ],
      "text/plain": [
       "                                              review  class    neg    neu  \\\n",
       "0  Make it like better with a giant pig bigger th...      0  0.000  0.625   \n",
       "1  These screens are small enough without crowdin...      1  0.072  0.928   \n",
       "2  Dear Rovio; If you absolutely must continue tr...      1  0.000  0.919   \n",
       "3      App crashes when new power up notice pops up.      3  0.000  1.000   \n",
       "4  It would be nice to have an update that didn  ...      1  0.164  0.667   \n",
       "\n",
       "     pos  compound  \n",
       "0  0.375    0.6597  \n",
       "1  0.000   -0.3080  \n",
       "2  0.081    0.6249  \n",
       "3  0.000    0.0000  \n",
       "4  0.170    0.0258  "
      ]
     },
     "execution_count": 51,
     "metadata": {},
     "output_type": "execute_result"
    }
   ],
   "source": [
    "data.head()"
   ]
  },
  {
   "cell_type": "code",
   "execution_count": 52,
   "id": "5ffb3f01",
   "metadata": {},
   "outputs": [
    {
     "data": {
      "text/plain": [
       "{'neg': 0.552, 'neu': 0.448, 'pos': 0.0, 'compound': -0.5719}"
      ]
     },
     "execution_count": 52,
     "metadata": {},
     "output_type": "execute_result"
    }
   ],
   "source": [
    "a = 'This was a pathetic movie.'\n",
    "sid.polarity_scores(a)"
   ]
  },
  {
   "attachments": {},
   "cell_type": "markdown",
   "id": "e2c327cd",
   "metadata": {},
   "source": [
    "Here 'neg' = Negative Sentiments Score, 'neu' = Neutral Sentiments, 'pos' = Postive Sentiments Score, 'compound' = Overall Sentiment score of sentence.\n",
    "\n",
    "If compound score is greater than 0 then means sentiment is positive if its below 0 then means its negative. "
   ]
  },
  {
   "cell_type": "code",
   "execution_count": 58,
   "id": "22db6baf",
   "metadata": {},
   "outputs": [
    {
     "data": {
      "text/html": [
       "<div>\n",
       "<style scoped>\n",
       "    .dataframe tbody tr th:only-of-type {\n",
       "        vertical-align: middle;\n",
       "    }\n",
       "\n",
       "    .dataframe tbody tr th {\n",
       "        vertical-align: top;\n",
       "    }\n",
       "\n",
       "    .dataframe thead th {\n",
       "        text-align: right;\n",
       "    }\n",
       "</style>\n",
       "<table border=\"1\" class=\"dataframe\">\n",
       "  <thead>\n",
       "    <tr style=\"text-align: right;\">\n",
       "      <th></th>\n",
       "      <th>review</th>\n",
       "      <th>class</th>\n",
       "      <th>neg</th>\n",
       "      <th>neu</th>\n",
       "      <th>pos</th>\n",
       "      <th>overall sentiment score</th>\n",
       "      <th>Sentiment Type</th>\n",
       "    </tr>\n",
       "  </thead>\n",
       "  <tbody>\n",
       "    <tr>\n",
       "      <th>0</th>\n",
       "      <td>Make it like better with a giant pig bigger th...</td>\n",
       "      <td>0</td>\n",
       "      <td>0.000</td>\n",
       "      <td>0.625</td>\n",
       "      <td>0.375</td>\n",
       "      <td>0.6597</td>\n",
       "      <td>Positive</td>\n",
       "    </tr>\n",
       "    <tr>\n",
       "      <th>1</th>\n",
       "      <td>These screens are small enough without crowdin...</td>\n",
       "      <td>1</td>\n",
       "      <td>0.072</td>\n",
       "      <td>0.928</td>\n",
       "      <td>0.000</td>\n",
       "      <td>-0.3080</td>\n",
       "      <td>Negative</td>\n",
       "    </tr>\n",
       "    <tr>\n",
       "      <th>2</th>\n",
       "      <td>Dear Rovio; If you absolutely must continue tr...</td>\n",
       "      <td>1</td>\n",
       "      <td>0.000</td>\n",
       "      <td>0.919</td>\n",
       "      <td>0.081</td>\n",
       "      <td>0.6249</td>\n",
       "      <td>Positive</td>\n",
       "    </tr>\n",
       "    <tr>\n",
       "      <th>3</th>\n",
       "      <td>App crashes when new power up notice pops up.</td>\n",
       "      <td>3</td>\n",
       "      <td>0.000</td>\n",
       "      <td>1.000</td>\n",
       "      <td>0.000</td>\n",
       "      <td>0.0000</td>\n",
       "      <td>Positive</td>\n",
       "    </tr>\n",
       "    <tr>\n",
       "      <th>4</th>\n",
       "      <td>It would be nice to have an update that didn  ...</td>\n",
       "      <td>1</td>\n",
       "      <td>0.164</td>\n",
       "      <td>0.667</td>\n",
       "      <td>0.170</td>\n",
       "      <td>0.0258</td>\n",
       "      <td>Positive</td>\n",
       "    </tr>\n",
       "    <tr>\n",
       "      <th>...</th>\n",
       "      <td>...</td>\n",
       "      <td>...</td>\n",
       "      <td>...</td>\n",
       "      <td>...</td>\n",
       "      <td>...</td>\n",
       "      <td>...</td>\n",
       "      <td>...</td>\n",
       "    </tr>\n",
       "    <tr>\n",
       "      <th>1385</th>\n",
       "      <td>Ma fav\\tI just love it</td>\n",
       "      <td>1</td>\n",
       "      <td>0.000</td>\n",
       "      <td>0.294</td>\n",
       "      <td>0.706</td>\n",
       "      <td>0.8020</td>\n",
       "      <td>Positive</td>\n",
       "    </tr>\n",
       "    <tr>\n",
       "      <th>1386</th>\n",
       "      <td>But the problem is very slow running to update.</td>\n",
       "      <td>3</td>\n",
       "      <td>0.307</td>\n",
       "      <td>0.693</td>\n",
       "      <td>0.000</td>\n",
       "      <td>-0.5499</td>\n",
       "      <td>Negative</td>\n",
       "    </tr>\n",
       "    <tr>\n",
       "      <th>1387</th>\n",
       "      <td>But I  d suggest two important features which ...</td>\n",
       "      <td>0</td>\n",
       "      <td>0.000</td>\n",
       "      <td>0.833</td>\n",
       "      <td>0.167</td>\n",
       "      <td>0.2960</td>\n",
       "      <td>Positive</td>\n",
       "    </tr>\n",
       "    <tr>\n",
       "      <th>1388</th>\n",
       "      <td>Why this is available on iOS while it  s not o...</td>\n",
       "      <td>2</td>\n",
       "      <td>0.000</td>\n",
       "      <td>1.000</td>\n",
       "      <td>0.000</td>\n",
       "      <td>0.0000</td>\n",
       "      <td>Positive</td>\n",
       "    </tr>\n",
       "    <tr>\n",
       "      <th>1389</th>\n",
       "      <td>This must be added common.</td>\n",
       "      <td>0</td>\n",
       "      <td>0.000</td>\n",
       "      <td>1.000</td>\n",
       "      <td>0.000</td>\n",
       "      <td>0.0000</td>\n",
       "      <td>Positive</td>\n",
       "    </tr>\n",
       "  </tbody>\n",
       "</table>\n",
       "<p>1390 rows × 7 columns</p>\n",
       "</div>"
      ],
      "text/plain": [
       "                                                 review  class    neg    neu  \\\n",
       "0     Make it like better with a giant pig bigger th...      0  0.000  0.625   \n",
       "1     These screens are small enough without crowdin...      1  0.072  0.928   \n",
       "2     Dear Rovio; If you absolutely must continue tr...      1  0.000  0.919   \n",
       "3         App crashes when new power up notice pops up.      3  0.000  1.000   \n",
       "4     It would be nice to have an update that didn  ...      1  0.164  0.667   \n",
       "...                                                 ...    ...    ...    ...   \n",
       "1385                             Ma fav\\tI just love it      1  0.000  0.294   \n",
       "1386    But the problem is very slow running to update.      3  0.307  0.693   \n",
       "1387  But I  d suggest two important features which ...      0  0.000  0.833   \n",
       "1388  Why this is available on iOS while it  s not o...      2  0.000  1.000   \n",
       "1389                         This must be added common.      0  0.000  1.000   \n",
       "\n",
       "        pos  overall sentiment score Sentiment Type  \n",
       "0     0.375                   0.6597       Positive  \n",
       "1     0.000                  -0.3080       Negative  \n",
       "2     0.081                   0.6249       Positive  \n",
       "3     0.000                   0.0000       Positive  \n",
       "4     0.170                   0.0258       Positive  \n",
       "...     ...                      ...            ...  \n",
       "1385  0.706                   0.8020       Positive  \n",
       "1386  0.000                  -0.5499       Negative  \n",
       "1387  0.167                   0.2960       Positive  \n",
       "1388  0.000                   0.0000       Positive  \n",
       "1389  0.000                   0.0000       Positive  \n",
       "\n",
       "[1390 rows x 7 columns]"
      ]
     },
     "execution_count": 58,
     "metadata": {},
     "output_type": "execute_result"
    }
   ],
   "source": [
    "data.rename(columns = {'Compound': 'Overall Sentiment Score'}, inplace= True)\n",
    "data"
   ]
  },
  {
   "cell_type": "code",
   "execution_count": 57,
   "id": "df9edcbd",
   "metadata": {},
   "outputs": [
    {
     "data": {
      "text/html": [
       "<div>\n",
       "<style scoped>\n",
       "    .dataframe tbody tr th:only-of-type {\n",
       "        vertical-align: middle;\n",
       "    }\n",
       "\n",
       "    .dataframe tbody tr th {\n",
       "        vertical-align: top;\n",
       "    }\n",
       "\n",
       "    .dataframe thead th {\n",
       "        text-align: right;\n",
       "    }\n",
       "</style>\n",
       "<table border=\"1\" class=\"dataframe\">\n",
       "  <thead>\n",
       "    <tr style=\"text-align: right;\">\n",
       "      <th></th>\n",
       "      <th>review</th>\n",
       "      <th>overall sentiment score</th>\n",
       "      <th>Sentiment Type</th>\n",
       "    </tr>\n",
       "  </thead>\n",
       "  <tbody>\n",
       "    <tr>\n",
       "      <th>0</th>\n",
       "      <td>Make it like better with a giant pig bigger th...</td>\n",
       "      <td>0.6597</td>\n",
       "      <td>Positive</td>\n",
       "    </tr>\n",
       "    <tr>\n",
       "      <th>1</th>\n",
       "      <td>These screens are small enough without crowdin...</td>\n",
       "      <td>-0.3080</td>\n",
       "      <td>Negative</td>\n",
       "    </tr>\n",
       "    <tr>\n",
       "      <th>2</th>\n",
       "      <td>Dear Rovio; If you absolutely must continue tr...</td>\n",
       "      <td>0.6249</td>\n",
       "      <td>Positive</td>\n",
       "    </tr>\n",
       "    <tr>\n",
       "      <th>3</th>\n",
       "      <td>App crashes when new power up notice pops up.</td>\n",
       "      <td>0.0000</td>\n",
       "      <td>Positive</td>\n",
       "    </tr>\n",
       "    <tr>\n",
       "      <th>4</th>\n",
       "      <td>It would be nice to have an update that didn  ...</td>\n",
       "      <td>0.0258</td>\n",
       "      <td>Positive</td>\n",
       "    </tr>\n",
       "  </tbody>\n",
       "</table>\n",
       "</div>"
      ],
      "text/plain": [
       "                                              review  overall sentiment score  \\\n",
       "0  Make it like better with a giant pig bigger th...                   0.6597   \n",
       "1  These screens are small enough without crowdin...                  -0.3080   \n",
       "2  Dear Rovio; If you absolutely must continue tr...                   0.6249   \n",
       "3      App crashes when new power up notice pops up.                   0.0000   \n",
       "4  It would be nice to have an update that didn  ...                   0.0258   \n",
       "\n",
       "  Sentiment Type  \n",
       "0       Positive  \n",
       "1       Negative  \n",
       "2       Positive  \n",
       "3       Positive  \n",
       "4       Positive  "
      ]
     },
     "execution_count": 57,
     "metadata": {},
     "output_type": "execute_result"
    }
   ],
   "source": [
    "data['Sentiment Type'] = data['overall sentiment score'].apply(lambda c: 'Positive' if c >=0 else 'Negative')\n",
    "sentiment_data = data.loc[:,['review','overall sentiment score','Sentiment Type']]\n",
    "sentiment_data.head()"
   ]
  },
  {
   "cell_type": "code",
   "execution_count": 60,
   "id": "c141e2e0",
   "metadata": {},
   "outputs": [
    {
     "data": {
      "text/plain": [
       "'Make it like better with a giant pig bigger than king pig.'"
      ]
     },
     "execution_count": 60,
     "metadata": {},
     "output_type": "execute_result"
    }
   ],
   "source": [
    "sentiment_data.review[0]"
   ]
  }
 ],
 "metadata": {
  "kernelspec": {
   "display_name": "Python 3.9.7 64-bit",
   "language": "python",
   "name": "python3"
  },
  "language_info": {
   "codemirror_mode": {
    "name": "ipython",
    "version": 3
   },
   "file_extension": ".py",
   "mimetype": "text/x-python",
   "name": "python",
   "nbconvert_exporter": "python",
   "pygments_lexer": "ipython3",
   "version": "3.9.7"
  },
  "vscode": {
   "interpreter": {
    "hash": "95f57ecaf1e4684a97728584cbdcdcfb0a14de4fde6afb1e55592db96a99a5c0"
   }
  }
 },
 "nbformat": 4,
 "nbformat_minor": 5
}
